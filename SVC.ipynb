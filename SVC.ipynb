{
 "cells": [
  {
   "cell_type": "markdown",
   "id": "719fbe2f",
   "metadata": {},
   "source": [
    "# Importing libraries "
   ]
  },
  {
   "cell_type": "code",
   "execution_count": 1,
   "id": "6ac709da",
   "metadata": {},
   "outputs": [],
   "source": [
    "import pandas as pd\n",
    "import matplotlib.pyplot as plt\n",
    "from matplotlib.pylab import rcParams as adjust\n",
    "import seaborn as sns\n",
    "from sklearn.svm import SVC\n",
    "from sklearn.model_selection import train_test_split\n",
    "from sklearn.metrics import accuracy_score, confusion_matrix, classification_report"
   ]
  },
  {
   "cell_type": "markdown",
   "id": "9be130dc",
   "metadata": {},
   "source": [
    "# Load data & EDA"
   ]
  },
  {
   "cell_type": "code",
   "execution_count": 2,
   "id": "e92cc5f2",
   "metadata": {},
   "outputs": [
    {
     "data": {
      "text/html": [
       "<div>\n",
       "<style scoped>\n",
       "    .dataframe tbody tr th:only-of-type {\n",
       "        vertical-align: middle;\n",
       "    }\n",
       "\n",
       "    .dataframe tbody tr th {\n",
       "        vertical-align: top;\n",
       "    }\n",
       "\n",
       "    .dataframe thead th {\n",
       "        text-align: right;\n",
       "    }\n",
       "</style>\n",
       "<table border=\"1\" class=\"dataframe\">\n",
       "  <thead>\n",
       "    <tr style=\"text-align: right;\">\n",
       "      <th></th>\n",
       "      <th>PassengerId</th>\n",
       "      <th>Survived</th>\n",
       "      <th>Pclass</th>\n",
       "      <th>Name</th>\n",
       "      <th>Sex</th>\n",
       "      <th>Age</th>\n",
       "      <th>SibSp</th>\n",
       "      <th>Parch</th>\n",
       "      <th>Ticket</th>\n",
       "      <th>Fare</th>\n",
       "      <th>Cabin</th>\n",
       "      <th>Embarked</th>\n",
       "    </tr>\n",
       "  </thead>\n",
       "  <tbody>\n",
       "    <tr>\n",
       "      <th>0</th>\n",
       "      <td>1</td>\n",
       "      <td>0</td>\n",
       "      <td>3</td>\n",
       "      <td>Braund, Mr. Owen Harris</td>\n",
       "      <td>male</td>\n",
       "      <td>22.0</td>\n",
       "      <td>1</td>\n",
       "      <td>0</td>\n",
       "      <td>A/5 21171</td>\n",
       "      <td>7.2500</td>\n",
       "      <td>NaN</td>\n",
       "      <td>S</td>\n",
       "    </tr>\n",
       "    <tr>\n",
       "      <th>1</th>\n",
       "      <td>2</td>\n",
       "      <td>1</td>\n",
       "      <td>1</td>\n",
       "      <td>Cumings, Mrs. John Bradley (Florence Briggs Th...</td>\n",
       "      <td>female</td>\n",
       "      <td>38.0</td>\n",
       "      <td>1</td>\n",
       "      <td>0</td>\n",
       "      <td>PC 17599</td>\n",
       "      <td>71.2833</td>\n",
       "      <td>C85</td>\n",
       "      <td>C</td>\n",
       "    </tr>\n",
       "    <tr>\n",
       "      <th>2</th>\n",
       "      <td>3</td>\n",
       "      <td>1</td>\n",
       "      <td>3</td>\n",
       "      <td>Heikkinen, Miss. Laina</td>\n",
       "      <td>female</td>\n",
       "      <td>26.0</td>\n",
       "      <td>0</td>\n",
       "      <td>0</td>\n",
       "      <td>STON/O2. 3101282</td>\n",
       "      <td>7.9250</td>\n",
       "      <td>NaN</td>\n",
       "      <td>S</td>\n",
       "    </tr>\n",
       "  </tbody>\n",
       "</table>\n",
       "</div>"
      ],
      "text/plain": [
       "   PassengerId  Survived  Pclass  \\\n",
       "0            1         0       3   \n",
       "1            2         1       1   \n",
       "2            3         1       3   \n",
       "\n",
       "                                                Name     Sex   Age  SibSp  \\\n",
       "0                            Braund, Mr. Owen Harris    male  22.0      1   \n",
       "1  Cumings, Mrs. John Bradley (Florence Briggs Th...  female  38.0      1   \n",
       "2                             Heikkinen, Miss. Laina  female  26.0      0   \n",
       "\n",
       "   Parch            Ticket     Fare Cabin Embarked  \n",
       "0      0         A/5 21171   7.2500   NaN        S  \n",
       "1      0          PC 17599  71.2833   C85        C  \n",
       "2      0  STON/O2. 3101282   7.9250   NaN        S  "
      ]
     },
     "metadata": {},
     "output_type": "display_data"
    },
    {
     "data": {
      "text/html": [
       "<div>\n",
       "<style scoped>\n",
       "    .dataframe tbody tr th:only-of-type {\n",
       "        vertical-align: middle;\n",
       "    }\n",
       "\n",
       "    .dataframe tbody tr th {\n",
       "        vertical-align: top;\n",
       "    }\n",
       "\n",
       "    .dataframe thead th {\n",
       "        text-align: right;\n",
       "    }\n",
       "</style>\n",
       "<table border=\"1\" class=\"dataframe\">\n",
       "  <thead>\n",
       "    <tr style=\"text-align: right;\">\n",
       "      <th></th>\n",
       "      <th>PassengerId</th>\n",
       "      <th>Pclass</th>\n",
       "      <th>Name</th>\n",
       "      <th>Sex</th>\n",
       "      <th>Age</th>\n",
       "      <th>SibSp</th>\n",
       "      <th>Parch</th>\n",
       "      <th>Ticket</th>\n",
       "      <th>Fare</th>\n",
       "      <th>Cabin</th>\n",
       "      <th>Embarked</th>\n",
       "    </tr>\n",
       "  </thead>\n",
       "  <tbody>\n",
       "    <tr>\n",
       "      <th>0</th>\n",
       "      <td>892</td>\n",
       "      <td>3</td>\n",
       "      <td>Kelly, Mr. James</td>\n",
       "      <td>male</td>\n",
       "      <td>34.5</td>\n",
       "      <td>0</td>\n",
       "      <td>0</td>\n",
       "      <td>330911</td>\n",
       "      <td>7.8292</td>\n",
       "      <td>NaN</td>\n",
       "      <td>Q</td>\n",
       "    </tr>\n",
       "    <tr>\n",
       "      <th>1</th>\n",
       "      <td>893</td>\n",
       "      <td>3</td>\n",
       "      <td>Wilkes, Mrs. James (Ellen Needs)</td>\n",
       "      <td>female</td>\n",
       "      <td>47.0</td>\n",
       "      <td>1</td>\n",
       "      <td>0</td>\n",
       "      <td>363272</td>\n",
       "      <td>7.0000</td>\n",
       "      <td>NaN</td>\n",
       "      <td>S</td>\n",
       "    </tr>\n",
       "    <tr>\n",
       "      <th>2</th>\n",
       "      <td>894</td>\n",
       "      <td>2</td>\n",
       "      <td>Myles, Mr. Thomas Francis</td>\n",
       "      <td>male</td>\n",
       "      <td>62.0</td>\n",
       "      <td>0</td>\n",
       "      <td>0</td>\n",
       "      <td>240276</td>\n",
       "      <td>9.6875</td>\n",
       "      <td>NaN</td>\n",
       "      <td>Q</td>\n",
       "    </tr>\n",
       "  </tbody>\n",
       "</table>\n",
       "</div>"
      ],
      "text/plain": [
       "   PassengerId  Pclass                              Name     Sex   Age  SibSp  \\\n",
       "0          892       3                  Kelly, Mr. James    male  34.5      0   \n",
       "1          893       3  Wilkes, Mrs. James (Ellen Needs)  female  47.0      1   \n",
       "2          894       2         Myles, Mr. Thomas Francis    male  62.0      0   \n",
       "\n",
       "   Parch  Ticket    Fare Cabin Embarked  \n",
       "0      0  330911  7.8292   NaN        Q  \n",
       "1      0  363272  7.0000   NaN        S  \n",
       "2      0  240276  9.6875   NaN        Q  "
      ]
     },
     "metadata": {},
     "output_type": "display_data"
    }
   ],
   "source": [
    "train_data = pd.read_csv ('D://Datasets/titanic_train.csv')\n",
    "test_data = pd.read_csv ('D://Datasets/titanic_test.csv')\n",
    "display (train_data.head (3))\n",
    "display (test_data.head (3))"
   ]
  },
  {
   "cell_type": "code",
   "execution_count": 3,
   "id": "9a687d2a",
   "metadata": {},
   "outputs": [
    {
     "name": "stdout",
     "output_type": "stream",
     "text": [
      "PassengerId      int64\n",
      "Survived         int64\n",
      "Pclass           int64\n",
      "Name            object\n",
      "Sex             object\n",
      "Age            float64\n",
      "SibSp            int64\n",
      "Parch            int64\n",
      "Ticket          object\n",
      "Fare           float64\n",
      "Cabin           object\n",
      "Embarked        object\n",
      "dtype: object \n",
      "\n",
      " PassengerId      int64\n",
      "Pclass           int64\n",
      "Name            object\n",
      "Sex             object\n",
      "Age            float64\n",
      "SibSp            int64\n",
      "Parch            int64\n",
      "Ticket          object\n",
      "Fare           float64\n",
      "Cabin           object\n",
      "Embarked        object\n",
      "dtype: object\n"
     ]
    }
   ],
   "source": [
    "print (train_data.dtypes, '\\n\\n', test_data.dtypes)"
   ]
  },
  {
   "cell_type": "code",
   "execution_count": 4,
   "id": "553bc703",
   "metadata": {},
   "outputs": [
    {
     "name": "stdout",
     "output_type": "stream",
     "text": [
      "(891, 12)\n",
      "(418, 11)\n"
     ]
    }
   ],
   "source": [
    "print (train_data.shape)\n",
    "print (test_data.shape)"
   ]
  },
  {
   "cell_type": "code",
   "execution_count": 5,
   "id": "60762438",
   "metadata": {},
   "outputs": [
    {
     "name": "stdout",
     "output_type": "stream",
     "text": [
      "2\n",
      "2\n"
     ]
    }
   ],
   "source": [
    "print (train_data.ndim)\n",
    "print (test_data.ndim)"
   ]
  },
  {
   "cell_type": "code",
   "execution_count": 6,
   "id": "4e6c358d",
   "metadata": {},
   "outputs": [
    {
     "data": {
      "text/html": [
       "<div>\n",
       "<style scoped>\n",
       "    .dataframe tbody tr th:only-of-type {\n",
       "        vertical-align: middle;\n",
       "    }\n",
       "\n",
       "    .dataframe tbody tr th {\n",
       "        vertical-align: top;\n",
       "    }\n",
       "\n",
       "    .dataframe thead th {\n",
       "        text-align: right;\n",
       "    }\n",
       "</style>\n",
       "<table border=\"1\" class=\"dataframe\">\n",
       "  <thead>\n",
       "    <tr style=\"text-align: right;\">\n",
       "      <th></th>\n",
       "      <th>PassengerId</th>\n",
       "      <th>Survived</th>\n",
       "      <th>Pclass</th>\n",
       "      <th>Age</th>\n",
       "      <th>SibSp</th>\n",
       "      <th>Parch</th>\n",
       "      <th>Fare</th>\n",
       "    </tr>\n",
       "  </thead>\n",
       "  <tbody>\n",
       "    <tr>\n",
       "      <th>count</th>\n",
       "      <td>891.000000</td>\n",
       "      <td>891.000000</td>\n",
       "      <td>891.000000</td>\n",
       "      <td>714.000000</td>\n",
       "      <td>891.000000</td>\n",
       "      <td>891.000000</td>\n",
       "      <td>891.000000</td>\n",
       "    </tr>\n",
       "    <tr>\n",
       "      <th>mean</th>\n",
       "      <td>446.000000</td>\n",
       "      <td>0.383838</td>\n",
       "      <td>2.308642</td>\n",
       "      <td>29.699118</td>\n",
       "      <td>0.523008</td>\n",
       "      <td>0.381594</td>\n",
       "      <td>32.204208</td>\n",
       "    </tr>\n",
       "    <tr>\n",
       "      <th>std</th>\n",
       "      <td>257.353842</td>\n",
       "      <td>0.486592</td>\n",
       "      <td>0.836071</td>\n",
       "      <td>14.526497</td>\n",
       "      <td>1.102743</td>\n",
       "      <td>0.806057</td>\n",
       "      <td>49.693429</td>\n",
       "    </tr>\n",
       "    <tr>\n",
       "      <th>min</th>\n",
       "      <td>1.000000</td>\n",
       "      <td>0.000000</td>\n",
       "      <td>1.000000</td>\n",
       "      <td>0.420000</td>\n",
       "      <td>0.000000</td>\n",
       "      <td>0.000000</td>\n",
       "      <td>0.000000</td>\n",
       "    </tr>\n",
       "    <tr>\n",
       "      <th>25%</th>\n",
       "      <td>223.500000</td>\n",
       "      <td>0.000000</td>\n",
       "      <td>2.000000</td>\n",
       "      <td>20.125000</td>\n",
       "      <td>0.000000</td>\n",
       "      <td>0.000000</td>\n",
       "      <td>7.910400</td>\n",
       "    </tr>\n",
       "    <tr>\n",
       "      <th>50%</th>\n",
       "      <td>446.000000</td>\n",
       "      <td>0.000000</td>\n",
       "      <td>3.000000</td>\n",
       "      <td>28.000000</td>\n",
       "      <td>0.000000</td>\n",
       "      <td>0.000000</td>\n",
       "      <td>14.454200</td>\n",
       "    </tr>\n",
       "    <tr>\n",
       "      <th>75%</th>\n",
       "      <td>668.500000</td>\n",
       "      <td>1.000000</td>\n",
       "      <td>3.000000</td>\n",
       "      <td>38.000000</td>\n",
       "      <td>1.000000</td>\n",
       "      <td>0.000000</td>\n",
       "      <td>31.000000</td>\n",
       "    </tr>\n",
       "    <tr>\n",
       "      <th>max</th>\n",
       "      <td>891.000000</td>\n",
       "      <td>1.000000</td>\n",
       "      <td>3.000000</td>\n",
       "      <td>80.000000</td>\n",
       "      <td>8.000000</td>\n",
       "      <td>6.000000</td>\n",
       "      <td>512.329200</td>\n",
       "    </tr>\n",
       "  </tbody>\n",
       "</table>\n",
       "</div>"
      ],
      "text/plain": [
       "       PassengerId    Survived      Pclass         Age       SibSp  \\\n",
       "count   891.000000  891.000000  891.000000  714.000000  891.000000   \n",
       "mean    446.000000    0.383838    2.308642   29.699118    0.523008   \n",
       "std     257.353842    0.486592    0.836071   14.526497    1.102743   \n",
       "min       1.000000    0.000000    1.000000    0.420000    0.000000   \n",
       "25%     223.500000    0.000000    2.000000   20.125000    0.000000   \n",
       "50%     446.000000    0.000000    3.000000   28.000000    0.000000   \n",
       "75%     668.500000    1.000000    3.000000   38.000000    1.000000   \n",
       "max     891.000000    1.000000    3.000000   80.000000    8.000000   \n",
       "\n",
       "            Parch        Fare  \n",
       "count  891.000000  891.000000  \n",
       "mean     0.381594   32.204208  \n",
       "std      0.806057   49.693429  \n",
       "min      0.000000    0.000000  \n",
       "25%      0.000000    7.910400  \n",
       "50%      0.000000   14.454200  \n",
       "75%      0.000000   31.000000  \n",
       "max      6.000000  512.329200  "
      ]
     },
     "execution_count": 6,
     "metadata": {},
     "output_type": "execute_result"
    }
   ],
   "source": [
    "train_data.describe ()"
   ]
  },
  {
   "cell_type": "code",
   "execution_count": 7,
   "id": "b7710919",
   "metadata": {},
   "outputs": [
    {
     "data": {
      "text/html": [
       "<div>\n",
       "<style scoped>\n",
       "    .dataframe tbody tr th:only-of-type {\n",
       "        vertical-align: middle;\n",
       "    }\n",
       "\n",
       "    .dataframe tbody tr th {\n",
       "        vertical-align: top;\n",
       "    }\n",
       "\n",
       "    .dataframe thead th {\n",
       "        text-align: right;\n",
       "    }\n",
       "</style>\n",
       "<table border=\"1\" class=\"dataframe\">\n",
       "  <thead>\n",
       "    <tr style=\"text-align: right;\">\n",
       "      <th></th>\n",
       "      <th>PassengerId</th>\n",
       "      <th>Pclass</th>\n",
       "      <th>Age</th>\n",
       "      <th>SibSp</th>\n",
       "      <th>Parch</th>\n",
       "      <th>Fare</th>\n",
       "    </tr>\n",
       "  </thead>\n",
       "  <tbody>\n",
       "    <tr>\n",
       "      <th>count</th>\n",
       "      <td>418.000000</td>\n",
       "      <td>418.000000</td>\n",
       "      <td>332.000000</td>\n",
       "      <td>418.000000</td>\n",
       "      <td>418.000000</td>\n",
       "      <td>417.000000</td>\n",
       "    </tr>\n",
       "    <tr>\n",
       "      <th>mean</th>\n",
       "      <td>1100.500000</td>\n",
       "      <td>2.265550</td>\n",
       "      <td>30.272590</td>\n",
       "      <td>0.447368</td>\n",
       "      <td>0.392344</td>\n",
       "      <td>35.627188</td>\n",
       "    </tr>\n",
       "    <tr>\n",
       "      <th>std</th>\n",
       "      <td>120.810458</td>\n",
       "      <td>0.841838</td>\n",
       "      <td>14.181209</td>\n",
       "      <td>0.896760</td>\n",
       "      <td>0.981429</td>\n",
       "      <td>55.907576</td>\n",
       "    </tr>\n",
       "    <tr>\n",
       "      <th>min</th>\n",
       "      <td>892.000000</td>\n",
       "      <td>1.000000</td>\n",
       "      <td>0.170000</td>\n",
       "      <td>0.000000</td>\n",
       "      <td>0.000000</td>\n",
       "      <td>0.000000</td>\n",
       "    </tr>\n",
       "    <tr>\n",
       "      <th>25%</th>\n",
       "      <td>996.250000</td>\n",
       "      <td>1.000000</td>\n",
       "      <td>21.000000</td>\n",
       "      <td>0.000000</td>\n",
       "      <td>0.000000</td>\n",
       "      <td>7.895800</td>\n",
       "    </tr>\n",
       "    <tr>\n",
       "      <th>50%</th>\n",
       "      <td>1100.500000</td>\n",
       "      <td>3.000000</td>\n",
       "      <td>27.000000</td>\n",
       "      <td>0.000000</td>\n",
       "      <td>0.000000</td>\n",
       "      <td>14.454200</td>\n",
       "    </tr>\n",
       "    <tr>\n",
       "      <th>75%</th>\n",
       "      <td>1204.750000</td>\n",
       "      <td>3.000000</td>\n",
       "      <td>39.000000</td>\n",
       "      <td>1.000000</td>\n",
       "      <td>0.000000</td>\n",
       "      <td>31.500000</td>\n",
       "    </tr>\n",
       "    <tr>\n",
       "      <th>max</th>\n",
       "      <td>1309.000000</td>\n",
       "      <td>3.000000</td>\n",
       "      <td>76.000000</td>\n",
       "      <td>8.000000</td>\n",
       "      <td>9.000000</td>\n",
       "      <td>512.329200</td>\n",
       "    </tr>\n",
       "  </tbody>\n",
       "</table>\n",
       "</div>"
      ],
      "text/plain": [
       "       PassengerId      Pclass         Age       SibSp       Parch        Fare\n",
       "count   418.000000  418.000000  332.000000  418.000000  418.000000  417.000000\n",
       "mean   1100.500000    2.265550   30.272590    0.447368    0.392344   35.627188\n",
       "std     120.810458    0.841838   14.181209    0.896760    0.981429   55.907576\n",
       "min     892.000000    1.000000    0.170000    0.000000    0.000000    0.000000\n",
       "25%     996.250000    1.000000   21.000000    0.000000    0.000000    7.895800\n",
       "50%    1100.500000    3.000000   27.000000    0.000000    0.000000   14.454200\n",
       "75%    1204.750000    3.000000   39.000000    1.000000    0.000000   31.500000\n",
       "max    1309.000000    3.000000   76.000000    8.000000    9.000000  512.329200"
      ]
     },
     "execution_count": 7,
     "metadata": {},
     "output_type": "execute_result"
    }
   ],
   "source": [
    "test_data.describe ()"
   ]
  },
  {
   "cell_type": "code",
   "execution_count": 8,
   "id": "ace3706b",
   "metadata": {},
   "outputs": [
    {
     "name": "stdout",
     "output_type": "stream",
     "text": [
      "<class 'pandas.core.frame.DataFrame'>\n",
      "RangeIndex: 891 entries, 0 to 890\n",
      "Data columns (total 12 columns):\n",
      " #   Column       Non-Null Count  Dtype  \n",
      "---  ------       --------------  -----  \n",
      " 0   PassengerId  891 non-null    int64  \n",
      " 1   Survived     891 non-null    int64  \n",
      " 2   Pclass       891 non-null    int64  \n",
      " 3   Name         891 non-null    object \n",
      " 4   Sex          891 non-null    object \n",
      " 5   Age          714 non-null    float64\n",
      " 6   SibSp        891 non-null    int64  \n",
      " 7   Parch        891 non-null    int64  \n",
      " 8   Ticket       891 non-null    object \n",
      " 9   Fare         891 non-null    float64\n",
      " 10  Cabin        204 non-null    object \n",
      " 11  Embarked     889 non-null    object \n",
      "dtypes: float64(2), int64(5), object(5)\n",
      "memory usage: 83.7+ KB\n"
     ]
    }
   ],
   "source": [
    "train_data.info ()"
   ]
  },
  {
   "cell_type": "code",
   "execution_count": 9,
   "id": "0cfc08e9",
   "metadata": {},
   "outputs": [
    {
     "name": "stdout",
     "output_type": "stream",
     "text": [
      "<class 'pandas.core.frame.DataFrame'>\n",
      "RangeIndex: 418 entries, 0 to 417\n",
      "Data columns (total 11 columns):\n",
      " #   Column       Non-Null Count  Dtype  \n",
      "---  ------       --------------  -----  \n",
      " 0   PassengerId  418 non-null    int64  \n",
      " 1   Pclass       418 non-null    int64  \n",
      " 2   Name         418 non-null    object \n",
      " 3   Sex          418 non-null    object \n",
      " 4   Age          332 non-null    float64\n",
      " 5   SibSp        418 non-null    int64  \n",
      " 6   Parch        418 non-null    int64  \n",
      " 7   Ticket       418 non-null    object \n",
      " 8   Fare         417 non-null    float64\n",
      " 9   Cabin        91 non-null     object \n",
      " 10  Embarked     418 non-null    object \n",
      "dtypes: float64(2), int64(4), object(5)\n",
      "memory usage: 36.0+ KB\n"
     ]
    }
   ],
   "source": [
    "test_data.info ()"
   ]
  },
  {
   "cell_type": "code",
   "execution_count": 10,
   "id": "2ca4b1a1",
   "metadata": {},
   "outputs": [
    {
     "data": {
      "text/plain": [
       "(0, 0)"
      ]
     },
     "execution_count": 10,
     "metadata": {},
     "output_type": "execute_result"
    }
   ],
   "source": [
    "train_data.duplicated ().sum (), test_data.duplicated ().sum ()"
   ]
  },
  {
   "cell_type": "code",
   "execution_count": 11,
   "id": "df6c11c6",
   "metadata": {},
   "outputs": [
    {
     "data": {
      "text/plain": [
       "PassengerId      0\n",
       "Survived         0\n",
       "Pclass           0\n",
       "Name             0\n",
       "Sex              0\n",
       "Age            177\n",
       "SibSp            0\n",
       "Parch            0\n",
       "Ticket           0\n",
       "Fare             0\n",
       "Cabin          687\n",
       "Embarked         2\n",
       "dtype: int64"
      ]
     },
     "execution_count": 11,
     "metadata": {},
     "output_type": "execute_result"
    }
   ],
   "source": [
    "train_data.isna ().sum ()"
   ]
  },
  {
   "cell_type": "code",
   "execution_count": 12,
   "id": "6ddb273e",
   "metadata": {},
   "outputs": [
    {
     "data": {
      "text/plain": [
       "PassengerId      0\n",
       "Pclass           0\n",
       "Name             0\n",
       "Sex              0\n",
       "Age             86\n",
       "SibSp            0\n",
       "Parch            0\n",
       "Ticket           0\n",
       "Fare             1\n",
       "Cabin          327\n",
       "Embarked         0\n",
       "dtype: int64"
      ]
     },
     "execution_count": 12,
     "metadata": {},
     "output_type": "execute_result"
    }
   ],
   "source": [
    "test_data.isna ().sum ()"
   ]
  },
  {
   "cell_type": "code",
   "execution_count": 13,
   "id": "8c26d47d",
   "metadata": {},
   "outputs": [
    {
     "name": "stdout",
     "output_type": "stream",
     "text": [
      "Train data\n",
      "Mean Age:  30\n",
      "Median Age:  28\n",
      "Mode Age:  0    24.0\n",
      "Name: Age, dtype: float64\n",
      "\n",
      "\n",
      "Test data\n",
      "Mean Age:  30\n",
      "Median Age:  27\n",
      "Mode Age:  0    21.0\n",
      "1    24.0\n",
      "Name: Age, dtype: float64\n"
     ]
    }
   ],
   "source": [
    "print ('Train data')\n",
    "print (\"Mean Age: \", round (train_data ['Age'].mean ()))\n",
    "print ('Median Age: ', round (train_data ['Age'].median ()))\n",
    "print ('Mode Age: ', train_data ['Age'].mode ())\n",
    "print ('\\n\\nTest data')\n",
    "print (\"Mean Age: \", round (test_data ['Age'].mean ()))\n",
    "print ('Median Age: ', round (test_data ['Age'].median ()))\n",
    "print ('Mode Age: ', test_data ['Age'].mode ())"
   ]
  },
  {
   "cell_type": "code",
   "execution_count": 14,
   "id": "17febb08",
   "metadata": {},
   "outputs": [
    {
     "name": "stdout",
     "output_type": "stream",
     "text": [
      "0\n"
     ]
    }
   ],
   "source": [
    "train_data ['Age'].fillna (value=round (train_data ['Age'].mean ()), inplace=True)\n",
    "print (train_data ['Age'].isna ().sum ())"
   ]
  },
  {
   "cell_type": "code",
   "execution_count": 15,
   "id": "96e5a5c0",
   "metadata": {},
   "outputs": [
    {
     "name": "stdout",
     "output_type": "stream",
     "text": [
      "0\n"
     ]
    }
   ],
   "source": [
    "test_data ['Age'].fillna (value=round (test_data ['Age'].mean ()), inplace=True)\n",
    "print (test_data ['Age'].isna ().sum ())"
   ]
  },
  {
   "cell_type": "code",
   "execution_count": 16,
   "id": "f12d4c5d",
   "metadata": {},
   "outputs": [
    {
     "data": {
      "text/html": [
       "<div>\n",
       "<style scoped>\n",
       "    .dataframe tbody tr th:only-of-type {\n",
       "        vertical-align: middle;\n",
       "    }\n",
       "\n",
       "    .dataframe tbody tr th {\n",
       "        vertical-align: top;\n",
       "    }\n",
       "\n",
       "    .dataframe thead th {\n",
       "        text-align: right;\n",
       "    }\n",
       "</style>\n",
       "<table border=\"1\" class=\"dataframe\">\n",
       "  <thead>\n",
       "    <tr style=\"text-align: right;\">\n",
       "      <th></th>\n",
       "      <th>PassengerId</th>\n",
       "      <th>Survived</th>\n",
       "      <th>Pclass</th>\n",
       "      <th>Name</th>\n",
       "      <th>Sex</th>\n",
       "      <th>Age</th>\n",
       "      <th>SibSp</th>\n",
       "      <th>Parch</th>\n",
       "      <th>Ticket</th>\n",
       "      <th>Fare</th>\n",
       "      <th>Embarked</th>\n",
       "    </tr>\n",
       "  </thead>\n",
       "  <tbody>\n",
       "    <tr>\n",
       "      <th>0</th>\n",
       "      <td>1</td>\n",
       "      <td>0</td>\n",
       "      <td>3</td>\n",
       "      <td>Braund, Mr. Owen Harris</td>\n",
       "      <td>male</td>\n",
       "      <td>22.0</td>\n",
       "      <td>1</td>\n",
       "      <td>0</td>\n",
       "      <td>A/5 21171</td>\n",
       "      <td>7.2500</td>\n",
       "      <td>S</td>\n",
       "    </tr>\n",
       "    <tr>\n",
       "      <th>1</th>\n",
       "      <td>2</td>\n",
       "      <td>1</td>\n",
       "      <td>1</td>\n",
       "      <td>Cumings, Mrs. John Bradley (Florence Briggs Th...</td>\n",
       "      <td>female</td>\n",
       "      <td>38.0</td>\n",
       "      <td>1</td>\n",
       "      <td>0</td>\n",
       "      <td>PC 17599</td>\n",
       "      <td>71.2833</td>\n",
       "      <td>C</td>\n",
       "    </tr>\n",
       "    <tr>\n",
       "      <th>2</th>\n",
       "      <td>3</td>\n",
       "      <td>1</td>\n",
       "      <td>3</td>\n",
       "      <td>Heikkinen, Miss. Laina</td>\n",
       "      <td>female</td>\n",
       "      <td>26.0</td>\n",
       "      <td>0</td>\n",
       "      <td>0</td>\n",
       "      <td>STON/O2. 3101282</td>\n",
       "      <td>7.9250</td>\n",
       "      <td>S</td>\n",
       "    </tr>\n",
       "  </tbody>\n",
       "</table>\n",
       "</div>"
      ],
      "text/plain": [
       "   PassengerId  Survived  Pclass  \\\n",
       "0            1         0       3   \n",
       "1            2         1       1   \n",
       "2            3         1       3   \n",
       "\n",
       "                                                Name     Sex   Age  SibSp  \\\n",
       "0                            Braund, Mr. Owen Harris    male  22.0      1   \n",
       "1  Cumings, Mrs. John Bradley (Florence Briggs Th...  female  38.0      1   \n",
       "2                             Heikkinen, Miss. Laina  female  26.0      0   \n",
       "\n",
       "   Parch            Ticket     Fare Embarked  \n",
       "0      0         A/5 21171   7.2500        S  \n",
       "1      0          PC 17599  71.2833        C  \n",
       "2      0  STON/O2. 3101282   7.9250        S  "
      ]
     },
     "execution_count": 16,
     "metadata": {},
     "output_type": "execute_result"
    }
   ],
   "source": [
    "train_data.drop (['Cabin'], axis=1, inplace=True)\n",
    "train_data.head (3)"
   ]
  },
  {
   "cell_type": "code",
   "execution_count": 17,
   "id": "fab60c72",
   "metadata": {},
   "outputs": [
    {
     "data": {
      "text/html": [
       "<div>\n",
       "<style scoped>\n",
       "    .dataframe tbody tr th:only-of-type {\n",
       "        vertical-align: middle;\n",
       "    }\n",
       "\n",
       "    .dataframe tbody tr th {\n",
       "        vertical-align: top;\n",
       "    }\n",
       "\n",
       "    .dataframe thead th {\n",
       "        text-align: right;\n",
       "    }\n",
       "</style>\n",
       "<table border=\"1\" class=\"dataframe\">\n",
       "  <thead>\n",
       "    <tr style=\"text-align: right;\">\n",
       "      <th></th>\n",
       "      <th>PassengerId</th>\n",
       "      <th>Pclass</th>\n",
       "      <th>Name</th>\n",
       "      <th>Sex</th>\n",
       "      <th>Age</th>\n",
       "      <th>SibSp</th>\n",
       "      <th>Parch</th>\n",
       "      <th>Ticket</th>\n",
       "      <th>Fare</th>\n",
       "      <th>Embarked</th>\n",
       "    </tr>\n",
       "  </thead>\n",
       "  <tbody>\n",
       "    <tr>\n",
       "      <th>0</th>\n",
       "      <td>892</td>\n",
       "      <td>3</td>\n",
       "      <td>Kelly, Mr. James</td>\n",
       "      <td>male</td>\n",
       "      <td>34.5</td>\n",
       "      <td>0</td>\n",
       "      <td>0</td>\n",
       "      <td>330911</td>\n",
       "      <td>7.8292</td>\n",
       "      <td>Q</td>\n",
       "    </tr>\n",
       "    <tr>\n",
       "      <th>1</th>\n",
       "      <td>893</td>\n",
       "      <td>3</td>\n",
       "      <td>Wilkes, Mrs. James (Ellen Needs)</td>\n",
       "      <td>female</td>\n",
       "      <td>47.0</td>\n",
       "      <td>1</td>\n",
       "      <td>0</td>\n",
       "      <td>363272</td>\n",
       "      <td>7.0000</td>\n",
       "      <td>S</td>\n",
       "    </tr>\n",
       "    <tr>\n",
       "      <th>2</th>\n",
       "      <td>894</td>\n",
       "      <td>2</td>\n",
       "      <td>Myles, Mr. Thomas Francis</td>\n",
       "      <td>male</td>\n",
       "      <td>62.0</td>\n",
       "      <td>0</td>\n",
       "      <td>0</td>\n",
       "      <td>240276</td>\n",
       "      <td>9.6875</td>\n",
       "      <td>Q</td>\n",
       "    </tr>\n",
       "  </tbody>\n",
       "</table>\n",
       "</div>"
      ],
      "text/plain": [
       "   PassengerId  Pclass                              Name     Sex   Age  SibSp  \\\n",
       "0          892       3                  Kelly, Mr. James    male  34.5      0   \n",
       "1          893       3  Wilkes, Mrs. James (Ellen Needs)  female  47.0      1   \n",
       "2          894       2         Myles, Mr. Thomas Francis    male  62.0      0   \n",
       "\n",
       "   Parch  Ticket    Fare Embarked  \n",
       "0      0  330911  7.8292        Q  \n",
       "1      0  363272  7.0000        S  \n",
       "2      0  240276  9.6875        Q  "
      ]
     },
     "execution_count": 17,
     "metadata": {},
     "output_type": "execute_result"
    }
   ],
   "source": [
    "test_data.drop (['Cabin'], axis=1, inplace=True)\n",
    "test_data.head (3)"
   ]
  },
  {
   "cell_type": "code",
   "execution_count": 18,
   "id": "106267be",
   "metadata": {},
   "outputs": [
    {
     "name": "stdout",
     "output_type": "stream",
     "text": [
      "No of uniques in Embarked:  3\n",
      "Unique values:  ['S' 'C' 'Q' nan]\n"
     ]
    }
   ],
   "source": [
    "print ('No of uniques in Embarked: ', train_data ['Embarked'].nunique ())\n",
    "print ('Unique values: ', train_data ['Embarked'].unique ())"
   ]
  },
  {
   "cell_type": "code",
   "execution_count": 19,
   "id": "91020828",
   "metadata": {},
   "outputs": [
    {
     "name": "stdout",
     "output_type": "stream",
     "text": [
      "Mode (Embarked):  0    S\n",
      "Name: Embarked, dtype: object\n"
     ]
    }
   ],
   "source": [
    "print ('Mode (Embarked): ', train_data ['Embarked'].mode ())"
   ]
  },
  {
   "cell_type": "code",
   "execution_count": 20,
   "id": "2bd753ad",
   "metadata": {},
   "outputs": [
    {
     "name": "stdout",
     "output_type": "stream",
     "text": [
      "0\n"
     ]
    }
   ],
   "source": [
    "train_data ['Embarked'].fillna (value=train_data ['Embarked'].mode () [0], inplace=True)\n",
    "print (train_data.Embarked.isna ().sum ())"
   ]
  },
  {
   "cell_type": "code",
   "execution_count": 21,
   "id": "19af310e",
   "metadata": {},
   "outputs": [
    {
     "data": {
      "text/plain": [
       "1"
      ]
     },
     "execution_count": 21,
     "metadata": {},
     "output_type": "execute_result"
    }
   ],
   "source": [
    "test_data ['Fare'].isna ().sum ()"
   ]
  },
  {
   "cell_type": "code",
   "execution_count": 22,
   "id": "de324d73",
   "metadata": {},
   "outputs": [
    {
     "name": "stdout",
     "output_type": "stream",
     "text": [
      "Max Fare:  512.3292\n",
      "Min Fare:  0.0\n",
      "Mean Fare:  35.6271884892086\n",
      "Medain Fare:  14.4542\n",
      "Mode Fare:  0    7.75\n",
      "Name: Fare, dtype: float64\n"
     ]
    }
   ],
   "source": [
    "print ('Max Fare: ', max (test_data ['Fare']))\n",
    "print ('Min Fare: ', min (test_data ['Fare']))\n",
    "print ('Mean Fare: ', test_data ['Fare'].mean ())\n",
    "print ('Medain Fare: ', test_data ['Fare'].median ())\n",
    "print ('Mode Fare: ', test_data ['Fare'].mode ())"
   ]
  },
  {
   "cell_type": "code",
   "execution_count": 23,
   "id": "6eda6f91",
   "metadata": {},
   "outputs": [
    {
     "data": {
      "text/plain": [
       "0"
      ]
     },
     "execution_count": 23,
     "metadata": {},
     "output_type": "execute_result"
    }
   ],
   "source": [
    "test_data ['Fare'].fillna (value=test_data ['Fare'].median (), inplace=True)\n",
    "test_data ['Fare'].isna ().sum ()"
   ]
  },
  {
   "cell_type": "code",
   "execution_count": 24,
   "id": "20a818c1",
   "metadata": {},
   "outputs": [
    {
     "data": {
      "text/plain": [
       "0"
      ]
     },
     "execution_count": 24,
     "metadata": {},
     "output_type": "execute_result"
    }
   ],
   "source": [
    "train_data.isna ().sum ().sum ()\n",
    "test_data.isna ().sum ().sum ()"
   ]
  },
  {
   "cell_type": "code",
   "execution_count": 25,
   "id": "d5948552",
   "metadata": {},
   "outputs": [
    {
     "name": "stdout",
     "output_type": "stream",
     "text": [
      "Index(['PassengerId', 'Survived', 'Pclass', 'Name', 'Sex', 'Age', 'SibSp',\n",
      "       'Parch', 'Ticket', 'Fare', 'Embarked'],\n",
      "      dtype='object')\n",
      "Index(['PassengerId', 'Pclass', 'Name', 'Sex', 'Age', 'SibSp', 'Parch',\n",
      "       'Ticket', 'Fare', 'Embarked'],\n",
      "      dtype='object')\n"
     ]
    }
   ],
   "source": [
    "print (train_data.columns)\n",
    "print (test_data.columns)"
   ]
  },
  {
   "cell_type": "code",
   "execution_count": 26,
   "id": "c1422c28",
   "metadata": {},
   "outputs": [
    {
     "data": {
      "text/html": [
       "<div>\n",
       "<style scoped>\n",
       "    .dataframe tbody tr th:only-of-type {\n",
       "        vertical-align: middle;\n",
       "    }\n",
       "\n",
       "    .dataframe tbody tr th {\n",
       "        vertical-align: top;\n",
       "    }\n",
       "\n",
       "    .dataframe thead th {\n",
       "        text-align: right;\n",
       "    }\n",
       "</style>\n",
       "<table border=\"1\" class=\"dataframe\">\n",
       "  <thead>\n",
       "    <tr style=\"text-align: right;\">\n",
       "      <th></th>\n",
       "      <th>Survived</th>\n",
       "      <th>Pclass</th>\n",
       "      <th>Sex</th>\n",
       "      <th>Age</th>\n",
       "      <th>SibSp</th>\n",
       "      <th>Parch</th>\n",
       "      <th>Fare</th>\n",
       "    </tr>\n",
       "  </thead>\n",
       "  <tbody>\n",
       "    <tr>\n",
       "      <th>0</th>\n",
       "      <td>0</td>\n",
       "      <td>3</td>\n",
       "      <td>male</td>\n",
       "      <td>22.0</td>\n",
       "      <td>1</td>\n",
       "      <td>0</td>\n",
       "      <td>7.25</td>\n",
       "    </tr>\n",
       "  </tbody>\n",
       "</table>\n",
       "</div>"
      ],
      "text/plain": [
       "   Survived  Pclass   Sex   Age  SibSp  Parch  Fare\n",
       "0         0       3  male  22.0      1      0  7.25"
      ]
     },
     "execution_count": 26,
     "metadata": {},
     "output_type": "execute_result"
    }
   ],
   "source": [
    "train_data.drop (['PassengerId', 'Name', 'Ticket', 'Embarked'], axis=True, inplace=True)\n",
    "train_data.head (1)"
   ]
  },
  {
   "cell_type": "code",
   "execution_count": 27,
   "id": "bf478829",
   "metadata": {},
   "outputs": [
    {
     "data": {
      "text/html": [
       "<div>\n",
       "<style scoped>\n",
       "    .dataframe tbody tr th:only-of-type {\n",
       "        vertical-align: middle;\n",
       "    }\n",
       "\n",
       "    .dataframe tbody tr th {\n",
       "        vertical-align: top;\n",
       "    }\n",
       "\n",
       "    .dataframe thead th {\n",
       "        text-align: right;\n",
       "    }\n",
       "</style>\n",
       "<table border=\"1\" class=\"dataframe\">\n",
       "  <thead>\n",
       "    <tr style=\"text-align: right;\">\n",
       "      <th></th>\n",
       "      <th>Pclass</th>\n",
       "      <th>Sex</th>\n",
       "      <th>Age</th>\n",
       "      <th>SibSp</th>\n",
       "      <th>Parch</th>\n",
       "      <th>Fare</th>\n",
       "    </tr>\n",
       "  </thead>\n",
       "  <tbody>\n",
       "    <tr>\n",
       "      <th>0</th>\n",
       "      <td>3</td>\n",
       "      <td>male</td>\n",
       "      <td>34.5</td>\n",
       "      <td>0</td>\n",
       "      <td>0</td>\n",
       "      <td>7.8292</td>\n",
       "    </tr>\n",
       "  </tbody>\n",
       "</table>\n",
       "</div>"
      ],
      "text/plain": [
       "   Pclass   Sex   Age  SibSp  Parch    Fare\n",
       "0       3  male  34.5      0      0  7.8292"
      ]
     },
     "execution_count": 27,
     "metadata": {},
     "output_type": "execute_result"
    }
   ],
   "source": [
    "test_data.drop (['PassengerId', 'Name', 'Ticket', 'Embarked'], axis=True, inplace=True)\n",
    "test_data.head (1)"
   ]
  },
  {
   "cell_type": "code",
   "execution_count": 28,
   "id": "218943a0",
   "metadata": {},
   "outputs": [
    {
     "data": {
      "text/html": [
       "<div>\n",
       "<style scoped>\n",
       "    .dataframe tbody tr th:only-of-type {\n",
       "        vertical-align: middle;\n",
       "    }\n",
       "\n",
       "    .dataframe tbody tr th {\n",
       "        vertical-align: top;\n",
       "    }\n",
       "\n",
       "    .dataframe thead th {\n",
       "        text-align: right;\n",
       "    }\n",
       "</style>\n",
       "<table border=\"1\" class=\"dataframe\">\n",
       "  <thead>\n",
       "    <tr style=\"text-align: right;\">\n",
       "      <th></th>\n",
       "      <th>Survived</th>\n",
       "      <th>Pclass</th>\n",
       "      <th>Age</th>\n",
       "      <th>SibSp</th>\n",
       "      <th>Parch</th>\n",
       "      <th>Fare</th>\n",
       "    </tr>\n",
       "  </thead>\n",
       "  <tbody>\n",
       "    <tr>\n",
       "      <th>Survived</th>\n",
       "      <td>1.0</td>\n",
       "      <td>-0.338481</td>\n",
       "      <td>-0.070657</td>\n",
       "      <td>-0.035322</td>\n",
       "      <td>0.081629</td>\n",
       "      <td>0.257307</td>\n",
       "    </tr>\n",
       "  </tbody>\n",
       "</table>\n",
       "</div>"
      ],
      "text/plain": [
       "          Survived    Pclass       Age     SibSp     Parch      Fare\n",
       "Survived       1.0 -0.338481 -0.070657 -0.035322  0.081629  0.257307"
      ]
     },
     "execution_count": 28,
     "metadata": {},
     "output_type": "execute_result"
    }
   ],
   "source": [
    "corr = train_data.corr ().iloc [0:1, :]\n",
    "corr"
   ]
  },
  {
   "cell_type": "code",
   "execution_count": 29,
   "id": "68f0322f",
   "metadata": {},
   "outputs": [
    {
     "data": {
      "text/html": [
       "<div>\n",
       "<style scoped>\n",
       "    .dataframe tbody tr th:only-of-type {\n",
       "        vertical-align: middle;\n",
       "    }\n",
       "\n",
       "    .dataframe tbody tr th {\n",
       "        vertical-align: top;\n",
       "    }\n",
       "\n",
       "    .dataframe thead th {\n",
       "        text-align: right;\n",
       "    }\n",
       "</style>\n",
       "<table border=\"1\" class=\"dataframe\">\n",
       "  <thead>\n",
       "    <tr style=\"text-align: right;\">\n",
       "      <th></th>\n",
       "      <th>Survived</th>\n",
       "      <th>Pclass</th>\n",
       "      <th>Sex</th>\n",
       "      <th>Fare</th>\n",
       "    </tr>\n",
       "  </thead>\n",
       "  <tbody>\n",
       "    <tr>\n",
       "      <th>0</th>\n",
       "      <td>0</td>\n",
       "      <td>3</td>\n",
       "      <td>male</td>\n",
       "      <td>7.25</td>\n",
       "    </tr>\n",
       "  </tbody>\n",
       "</table>\n",
       "</div>"
      ],
      "text/plain": [
       "   Survived  Pclass   Sex  Fare\n",
       "0         0       3  male  7.25"
      ]
     },
     "execution_count": 29,
     "metadata": {},
     "output_type": "execute_result"
    }
   ],
   "source": [
    "train_data.drop (['Age', 'SibSp', 'Parch'], axis=1, inplace=True)\n",
    "train_data.head (1)"
   ]
  },
  {
   "cell_type": "code",
   "execution_count": 30,
   "id": "8876d407",
   "metadata": {},
   "outputs": [
    {
     "data": {
      "text/html": [
       "<div>\n",
       "<style scoped>\n",
       "    .dataframe tbody tr th:only-of-type {\n",
       "        vertical-align: middle;\n",
       "    }\n",
       "\n",
       "    .dataframe tbody tr th {\n",
       "        vertical-align: top;\n",
       "    }\n",
       "\n",
       "    .dataframe thead th {\n",
       "        text-align: right;\n",
       "    }\n",
       "</style>\n",
       "<table border=\"1\" class=\"dataframe\">\n",
       "  <thead>\n",
       "    <tr style=\"text-align: right;\">\n",
       "      <th></th>\n",
       "      <th>Pclass</th>\n",
       "      <th>Sex</th>\n",
       "      <th>Fare</th>\n",
       "    </tr>\n",
       "  </thead>\n",
       "  <tbody>\n",
       "    <tr>\n",
       "      <th>0</th>\n",
       "      <td>3</td>\n",
       "      <td>male</td>\n",
       "      <td>7.8292</td>\n",
       "    </tr>\n",
       "  </tbody>\n",
       "</table>\n",
       "</div>"
      ],
      "text/plain": [
       "   Pclass   Sex    Fare\n",
       "0       3  male  7.8292"
      ]
     },
     "execution_count": 30,
     "metadata": {},
     "output_type": "execute_result"
    }
   ],
   "source": [
    "test_data.drop (['Age', 'SibSp', 'Parch'], axis=1, inplace=True)\n",
    "test_data.head (1)"
   ]
  },
  {
   "cell_type": "code",
   "execution_count": 31,
   "id": "77030609",
   "metadata": {},
   "outputs": [
    {
     "data": {
      "text/plain": [
       "0    0\n",
       "1    1\n",
       "2    1\n",
       "Name: Sex, dtype: int64"
      ]
     },
     "execution_count": 31,
     "metadata": {},
     "output_type": "execute_result"
    }
   ],
   "source": [
    "train_data ['Sex'].replace (['male', 'female'], [0, 1], inplace=True)\n",
    "train_data ['Sex'] [:3]"
   ]
  },
  {
   "cell_type": "code",
   "execution_count": 32,
   "id": "f868b700",
   "metadata": {},
   "outputs": [
    {
     "data": {
      "text/plain": [
       "0    0\n",
       "1    1\n",
       "2    0\n",
       "Name: Sex, dtype: int64"
      ]
     },
     "execution_count": 32,
     "metadata": {},
     "output_type": "execute_result"
    }
   ],
   "source": [
    "test_data ['Sex'].replace (['male', 'female'], [0, 1], inplace=True)\n",
    "test_data ['Sex'] [:3]"
   ]
  },
  {
   "cell_type": "code",
   "execution_count": 33,
   "id": "1bb63374",
   "metadata": {},
   "outputs": [
    {
     "data": {
      "text/plain": [
       "(   Survived  Pclass  Sex  Fare\n",
       " 0         0       3    0  7.25,\n",
       "    Pclass  Sex    Fare\n",
       " 0       3    0  7.8292)"
      ]
     },
     "execution_count": 33,
     "metadata": {},
     "output_type": "execute_result"
    }
   ],
   "source": [
    "train_data.head (1), test_data.head (1)"
   ]
  },
  {
   "cell_type": "code",
   "execution_count": 34,
   "id": "42f2411a",
   "metadata": {},
   "outputs": [
    {
     "name": "stdout",
     "output_type": "stream",
     "text": [
      "Survived      int64\n",
      "Pclass        int64\n",
      "Sex           int64\n",
      "Fare        float64\n",
      "dtype: object\n",
      "Pclass      int64\n",
      "Sex         int64\n",
      "Fare      float64\n",
      "dtype: object\n"
     ]
    }
   ],
   "source": [
    "print (train_data.dtypes) \n",
    "print (test_data.dtypes)"
   ]
  },
  {
   "cell_type": "code",
   "execution_count": 35,
   "id": "83e2cfc0",
   "metadata": {},
   "outputs": [
    {
     "name": "stdout",
     "output_type": "stream",
     "text": [
      "0\n",
      "0\n"
     ]
    }
   ],
   "source": [
    "print (train_data.isna ().sum ().sum ())\n",
    "print (test_data.isna ().sum ().sum ())"
   ]
  },
  {
   "cell_type": "markdown",
   "id": "ac543495",
   "metadata": {},
   "source": [
    "# Splitting Data"
   ]
  },
  {
   "cell_type": "code",
   "execution_count": 36,
   "id": "255fa024",
   "metadata": {},
   "outputs": [
    {
     "data": {
      "text/plain": [
       "array([[ 3.    ,  0.    ,  7.25  ],\n",
       "       [ 1.    ,  1.    , 71.2833],\n",
       "       [ 3.    ,  1.    ,  7.925 ],\n",
       "       ...,\n",
       "       [ 3.    ,  1.    , 23.45  ],\n",
       "       [ 1.    ,  0.    , 30.    ],\n",
       "       [ 3.    ,  0.    ,  7.75  ]])"
      ]
     },
     "execution_count": 36,
     "metadata": {},
     "output_type": "execute_result"
    }
   ],
   "source": [
    "x = train_data.drop (['Survived'], axis=1).values\n",
    "x"
   ]
  },
  {
   "cell_type": "code",
   "execution_count": 37,
   "id": "ad61a70d",
   "metadata": {},
   "outputs": [
    {
     "data": {
      "text/plain": [
       "array([0, 1, 1, 1, 0, 0, 0, 0, 1, 1, 1, 1, 0, 0, 0, 1, 0, 1, 0, 1, 0, 1,\n",
       "       1, 1, 0, 1, 0, 0, 1, 0, 0, 1, 1, 0, 0, 0, 1, 0, 0, 1, 0, 0, 0, 1,\n",
       "       1, 0, 0, 1, 0, 0, 0, 0, 1, 1, 0, 1, 1, 0, 1, 0, 0, 1, 0, 0, 0, 1,\n",
       "       1, 0, 1, 0, 0, 0, 0, 0, 1, 0, 0, 0, 1, 1, 0, 1, 1, 0, 1, 1, 0, 0,\n",
       "       1, 0, 0, 0, 0, 0, 0, 0, 0, 1, 1, 0, 0, 0, 0, 0, 0, 0, 1, 1, 0, 1,\n",
       "       0, 0, 0, 0, 0, 0, 0, 0, 0, 0, 0, 0, 0, 1, 0, 1, 0, 1, 1, 0, 0, 0,\n",
       "       0, 1, 0, 0, 1, 0, 0, 0, 0, 1, 1, 0, 0, 0, 1, 0, 0, 0, 0, 1, 0, 0,\n",
       "       0, 0, 1, 0, 0, 0, 0, 1, 0, 0, 0, 1, 1, 0, 0, 0, 0, 0, 1, 0, 0, 0,\n",
       "       0, 0, 0, 0, 0, 0, 0, 1, 1, 0, 1, 1, 0, 0, 1, 0, 1, 1, 1, 1, 0, 0,\n",
       "       1, 0, 0, 0, 0, 0, 1, 0, 0, 1, 1, 1, 0, 1, 0, 0, 0, 1, 1, 0, 1, 0,\n",
       "       1, 0, 0, 0, 1, 0, 1, 0, 0, 0, 1, 0, 0, 1, 0, 0, 0, 1, 0, 0, 0, 1,\n",
       "       0, 0, 0, 0, 0, 1, 1, 0, 0, 0, 0, 0, 0, 1, 1, 1, 1, 1, 0, 1, 0, 0,\n",
       "       0, 0, 0, 1, 1, 1, 0, 1, 1, 0, 1, 1, 0, 0, 0, 1, 0, 0, 0, 1, 0, 0,\n",
       "       1, 0, 1, 1, 1, 1, 0, 0, 0, 0, 0, 0, 1, 1, 1, 1, 0, 1, 0, 1, 1, 1,\n",
       "       0, 1, 1, 1, 0, 0, 0, 1, 1, 0, 1, 1, 0, 0, 1, 1, 0, 1, 0, 1, 1, 1,\n",
       "       1, 0, 0, 0, 1, 0, 0, 1, 1, 0, 1, 1, 0, 0, 0, 1, 1, 1, 1, 0, 0, 0,\n",
       "       0, 0, 0, 0, 1, 0, 1, 1, 0, 0, 0, 0, 0, 0, 1, 1, 1, 1, 1, 0, 0, 0,\n",
       "       0, 1, 1, 0, 0, 0, 1, 1, 0, 1, 0, 0, 0, 1, 0, 1, 1, 1, 0, 1, 1, 0,\n",
       "       0, 0, 0, 1, 1, 0, 0, 0, 0, 0, 0, 1, 0, 0, 0, 0, 1, 0, 1, 0, 1, 1,\n",
       "       0, 0, 0, 0, 0, 0, 0, 0, 1, 1, 0, 1, 1, 1, 1, 0, 0, 1, 0, 1, 0, 0,\n",
       "       1, 0, 0, 1, 1, 1, 1, 1, 1, 1, 0, 0, 0, 1, 0, 1, 0, 1, 1, 0, 1, 0,\n",
       "       0, 0, 0, 0, 0, 0, 0, 1, 0, 0, 1, 1, 0, 0, 0, 0, 0, 1, 0, 0, 0, 1,\n",
       "       1, 0, 1, 0, 0, 1, 0, 0, 0, 0, 0, 0, 1, 0, 0, 0, 0, 0, 0, 0, 1, 0,\n",
       "       1, 1, 0, 1, 1, 0, 1, 1, 0, 0, 1, 0, 1, 0, 1, 0, 0, 1, 0, 0, 1, 0,\n",
       "       0, 0, 1, 0, 0, 1, 0, 1, 0, 1, 0, 1, 1, 0, 0, 1, 0, 0, 1, 1, 0, 1,\n",
       "       1, 0, 0, 1, 1, 0, 1, 0, 1, 1, 0, 0, 0, 0, 0, 0, 0, 0, 0, 1, 1, 1,\n",
       "       1, 1, 0, 0, 1, 1, 0, 1, 1, 1, 0, 0, 0, 1, 0, 1, 0, 0, 0, 1, 0, 0,\n",
       "       0, 0, 1, 0, 0, 1, 1, 0, 0, 0, 1, 0, 0, 1, 1, 1, 0, 0, 1, 0, 0, 1,\n",
       "       0, 0, 1, 0, 0, 1, 1, 0, 0, 0, 0, 1, 0, 0, 1, 0, 1, 0, 0, 1, 0, 0,\n",
       "       0, 0, 0, 1, 0, 1, 1, 1, 0, 1, 0, 1, 0, 1, 0, 1, 0, 0, 0, 0, 0, 0,\n",
       "       1, 0, 0, 0, 1, 0, 0, 0, 0, 1, 1, 0, 0, 1, 0, 0, 0, 1, 0, 1, 0, 1,\n",
       "       0, 0, 0, 0, 0, 0, 0, 1, 1, 1, 1, 0, 0, 0, 0, 1, 0, 0, 1, 1, 0, 0,\n",
       "       0, 0, 1, 1, 1, 1, 1, 0, 1, 0, 0, 0, 1, 1, 0, 0, 1, 0, 0, 0, 1, 0,\n",
       "       1, 1, 0, 0, 1, 0, 0, 0, 0, 0, 0, 1, 0, 0, 1, 0, 1, 0, 1, 0, 0, 1,\n",
       "       0, 0, 1, 1, 0, 0, 1, 1, 0, 0, 0, 1, 0, 0, 1, 1, 0, 1, 0, 0, 0, 0,\n",
       "       0, 0, 0, 0, 1, 0, 0, 1, 0, 1, 1, 1, 0, 0, 0, 0, 1, 0, 1, 0, 0, 0,\n",
       "       0, 0, 0, 0, 1, 1, 0, 0, 0, 1, 1, 1, 1, 0, 0, 0, 0, 1, 0, 0, 0, 0,\n",
       "       0, 0, 0, 0, 0, 0, 1, 1, 0, 1, 0, 0, 0, 1, 1, 1, 1, 1, 0, 0, 0, 1,\n",
       "       0, 0, 1, 1, 0, 0, 1, 0, 0, 0, 0, 0, 0, 1, 0, 0, 0, 1, 0, 1, 1, 1,\n",
       "       1, 0, 0, 0, 1, 0, 0, 1, 1, 0, 0, 1, 0, 1, 0, 0, 1, 1, 0, 0, 0, 1,\n",
       "       1, 0, 0, 0, 0, 0, 0, 1, 0, 1, 0], dtype=int64)"
      ]
     },
     "execution_count": 37,
     "metadata": {},
     "output_type": "execute_result"
    }
   ],
   "source": [
    "y = train_data ['Survived'].values\n",
    "y"
   ]
  },
  {
   "cell_type": "code",
   "execution_count": 38,
   "id": "b361274c",
   "metadata": {},
   "outputs": [
    {
     "name": "stdout",
     "output_type": "stream",
     "text": [
      "(668, 3) (223, 3) (668,) (223,)\n"
     ]
    }
   ],
   "source": [
    "x_train, x_test, y_train, y_test = train_test_split (x, y, test_size=0.25, random_state=42)\n",
    "print (x_train.shape, x_test.shape, y_train.shape, y_test.shape)"
   ]
  },
  {
   "cell_type": "markdown",
   "id": "9e010daf",
   "metadata": {},
   "source": [
    "# Model Building & Evaluation"
   ]
  },
  {
   "cell_type": "code",
   "execution_count": 39,
   "id": "b9c96638",
   "metadata": {},
   "outputs": [
    {
     "data": {
      "text/plain": [
       "0.7847533632286996"
      ]
     },
     "execution_count": 39,
     "metadata": {},
     "output_type": "execute_result"
    }
   ],
   "source": [
    "model = SVC (C=1.0, kernel='linear')\n",
    "model.fit (x_train, y_train)\n",
    "y_pred = model.predict (x_test)\n",
    "accuracy_score (y_test, y_pred)"
   ]
  },
  {
   "cell_type": "code",
   "execution_count": 40,
   "id": "e93a52a5",
   "metadata": {},
   "outputs": [
    {
     "data": {
      "text/plain": [
       "array([[112,  22],\n",
       "       [ 26,  63]], dtype=int64)"
      ]
     },
     "execution_count": 40,
     "metadata": {},
     "output_type": "execute_result"
    }
   ],
   "source": [
    "confusion_matrix (y_test, y_pred)"
   ]
  },
  {
   "cell_type": "code",
   "execution_count": 41,
   "id": "e588e6fc",
   "metadata": {},
   "outputs": [
    {
     "data": {
      "text/plain": [
       "0.6636771300448431"
      ]
     },
     "execution_count": 41,
     "metadata": {},
     "output_type": "execute_result"
    }
   ],
   "source": [
    "model = SVC (C=1.0, kernel='rbf')\n",
    "model.fit (x_train, y_train)\n",
    "y_pred = model.predict (x_test)\n",
    "accuracy_score (y_test, y_pred)"
   ]
  },
  {
   "cell_type": "code",
   "execution_count": 42,
   "id": "2e313a68",
   "metadata": {},
   "outputs": [
    {
     "data": {
      "text/plain": [
       "array([[126,   8],\n",
       "       [ 67,  22]], dtype=int64)"
      ]
     },
     "execution_count": 42,
     "metadata": {},
     "output_type": "execute_result"
    }
   ],
   "source": [
    "confusion_matrix (y_test, y_pred)"
   ]
  },
  {
   "cell_type": "code",
   "execution_count": 43,
   "id": "8536e5da",
   "metadata": {},
   "outputs": [
    {
     "data": {
      "text/plain": [
       "0.6143497757847534"
      ]
     },
     "execution_count": 43,
     "metadata": {},
     "output_type": "execute_result"
    }
   ],
   "source": [
    "model = SVC (C=1.0, kernel='poly')\n",
    "model.fit (x_train, y_train)\n",
    "y_pred = model.predict (x_test)\n",
    "accuracy_score (y_test, y_pred)"
   ]
  },
  {
   "cell_type": "code",
   "execution_count": 44,
   "id": "7f203388",
   "metadata": {},
   "outputs": [
    {
     "data": {
      "text/plain": [
       "array([[134,   0],\n",
       "       [ 86,   3]], dtype=int64)"
      ]
     },
     "execution_count": 44,
     "metadata": {},
     "output_type": "execute_result"
    }
   ],
   "source": [
    "confusion_matrix (y_test, y_pred)"
   ]
  },
  {
   "cell_type": "code",
   "execution_count": 45,
   "id": "34fdbca8",
   "metadata": {},
   "outputs": [
    {
     "data": {
      "text/plain": [
       "0.5605381165919282"
      ]
     },
     "execution_count": 45,
     "metadata": {},
     "output_type": "execute_result"
    }
   ],
   "source": [
    "model = SVC (C=1, kernel='sigmoid', tol=0.0001)\n",
    "model.fit (x_train, y_train)\n",
    "y_pred = model.predict (x_test)\n",
    "accuracy_score (y_test, y_pred)"
   ]
  },
  {
   "cell_type": "code",
   "execution_count": 46,
   "id": "8fa269f3",
   "metadata": {},
   "outputs": [
    {
     "data": {
      "text/plain": [
       "array([[81, 53],\n",
       "       [45, 44]], dtype=int64)"
      ]
     },
     "execution_count": 46,
     "metadata": {},
     "output_type": "execute_result"
    }
   ],
   "source": [
    "confusion_matrix (y_test, y_pred)"
   ]
  },
  {
   "cell_type": "code",
   "execution_count": 47,
   "id": "3929b2a6",
   "metadata": {},
   "outputs": [
    {
     "data": {
      "text/plain": [
       "0.7847533632286996"
      ]
     },
     "execution_count": 47,
     "metadata": {},
     "output_type": "execute_result"
    }
   ],
   "source": [
    "model = SVC (C=1, kernel='linear', tol=0.001, gamma='auto')\n",
    "model.fit (x_train, y_train)\n",
    "y_pred = model.predict (x_test)\n",
    "accuracy_score (y_test, y_pred)"
   ]
  },
  {
   "cell_type": "code",
   "execution_count": 48,
   "id": "6a69c53e",
   "metadata": {},
   "outputs": [
    {
     "name": "stdout",
     "output_type": "stream",
     "text": [
      "Final report of last model\n"
     ]
    },
    {
     "data": {
      "text/plain": [
       "array([[112,  22],\n",
       "       [ 26,  63]], dtype=int64)"
      ]
     },
     "execution_count": 48,
     "metadata": {},
     "output_type": "execute_result"
    }
   ],
   "source": [
    "print ('Final report of last model')\n",
    "confusion_matrix (y_test, y_pred)"
   ]
  },
  {
   "cell_type": "code",
   "execution_count": 49,
   "id": "b10fe5f6",
   "metadata": {
    "scrolled": true
   },
   "outputs": [
    {
     "name": "stdout",
     "output_type": "stream",
     "text": [
      "              precision    recall  f1-score   support\n",
      "\n",
      "           0       0.81      0.84      0.82       134\n",
      "           1       0.74      0.71      0.72        89\n",
      "\n",
      "    accuracy                           0.78       223\n",
      "   macro avg       0.78      0.77      0.77       223\n",
      "weighted avg       0.78      0.78      0.78       223\n",
      "\n"
     ]
    }
   ],
   "source": [
    "print (classification_report (y_test, y_pred))"
   ]
  },
  {
   "cell_type": "code",
   "execution_count": 50,
   "id": "480cc8fb",
   "metadata": {},
   "outputs": [
    {
     "data": {
      "text/plain": [
       "0.7533632286995515"
      ]
     },
     "execution_count": 50,
     "metadata": {},
     "output_type": "execute_result"
    }
   ],
   "source": [
    "model = SVC (C=1000, kernel='linear', tol=0.0001, gamma=100)\n",
    "model.fit (x_train, y_train)\n",
    "y_pred = model.predict (x_test)\n",
    "accuracy_score (y_test, y_pred)"
   ]
  },
  {
   "cell_type": "markdown",
   "id": "07e936e5",
   "metadata": {},
   "source": [
    "#### Good Accuracy till now"
   ]
  },
  {
   "cell_type": "code",
   "execution_count": 51,
   "id": "cbb2e77a",
   "metadata": {},
   "outputs": [
    {
     "data": {
      "text/plain": [
       "0.8295964125560538"
      ]
     },
     "execution_count": 51,
     "metadata": {},
     "output_type": "execute_result"
    }
   ],
   "source": [
    "model = SVC (C=1700, kernel='rbf', tol=0.0001, gamma='auto')\n",
    "model.fit (x_train, y_train)\n",
    "y_pred = model.predict (x_test)\n",
    "accuracy_score (y_test, y_pred)"
   ]
  },
  {
   "cell_type": "code",
   "execution_count": 52,
   "id": "07a3a02b",
   "metadata": {},
   "outputs": [
    {
     "data": {
      "text/plain": [
       "0.757847533632287"
      ]
     },
     "execution_count": 52,
     "metadata": {},
     "output_type": "execute_result"
    }
   ],
   "source": [
    "model = SVC (C=1000, kernel='rbf', tol=0.0001, gamma=155)\n",
    "model.fit (x_train, y_train)\n",
    "y_pred = model.predict (x_test)\n",
    "accuracy_score (y_test, y_pred)"
   ]
  },
  {
   "cell_type": "code",
   "execution_count": 53,
   "id": "f6a369ef",
   "metadata": {},
   "outputs": [],
   "source": [
    "model.fit (x, y)\n",
    "test_y_pred = model.predict (test_data.values)"
   ]
  },
  {
   "cell_type": "code",
   "execution_count": 54,
   "id": "1fdded2c",
   "metadata": {},
   "outputs": [
    {
     "data": {
      "text/plain": [
       "array([0, 0, 0, 0, 1, 0, 0, 1, 1, 0, 0, 0, 1, 0, 0, 1, 0, 0, 1, 1, 0, 0,\n",
       "       0, 0, 1, 0, 0, 0, 1, 0, 0, 0, 1, 0, 0, 0, 0, 0, 0, 1, 0, 1, 0, 1,\n",
       "       1, 0, 0, 0, 1, 1, 0, 0, 1, 1, 0, 0, 0, 0, 0, 1, 0, 0, 0, 1, 0, 1,\n",
       "       1, 0, 0, 1, 1, 0, 1, 0, 1, 0, 0, 0, 0, 1, 1, 0, 0, 0, 0, 0, 1, 0,\n",
       "       1, 0, 0, 0, 1, 0, 0, 0, 1, 0, 1, 0, 0, 0, 0, 0, 0, 0, 0, 0, 0, 0,\n",
       "       0, 1, 0, 1, 0, 0, 0, 1, 0, 1, 1, 0, 0, 0, 0, 1, 0, 1, 0, 0, 0, 0,\n",
       "       0, 0, 0, 0, 0, 0, 0, 0, 0, 0, 0, 0, 1, 0, 0, 0, 1, 0, 1, 0, 0, 1,\n",
       "       0, 0, 0, 1, 1, 0, 1, 1, 1, 0, 0, 1, 0, 0, 1, 0, 0, 0, 0, 0, 0, 1,\n",
       "       0, 1, 1, 1, 0, 0, 1, 0, 1, 0, 1, 0, 0, 0, 0, 0, 0, 0, 0, 0, 0, 1,\n",
       "       0, 0, 1, 0, 0, 1, 0, 0, 1, 0, 1, 0, 0, 0, 0, 1, 1, 0, 1, 0, 1, 0,\n",
       "       1, 0, 1, 0, 0, 0, 0, 1, 0, 0, 0, 1, 0, 0, 0, 0, 0, 0, 1, 1, 1, 1,\n",
       "       0, 0, 0, 0, 1, 0, 1, 0, 1, 0, 0, 0, 0, 0, 0, 0, 1, 0, 0, 0, 1, 1,\n",
       "       0, 0, 0, 0, 0, 0, 0, 0, 0, 1, 0, 1, 0, 0, 0, 0, 0, 0, 1, 0, 0, 0,\n",
       "       0, 0, 0, 0, 0, 0, 0, 1, 0, 0, 1, 0, 0, 0, 0, 0, 0, 0, 1, 1, 1, 0,\n",
       "       0, 0, 0, 0, 0, 1, 1, 1, 0, 0, 0, 0, 0, 0, 0, 1, 1, 0, 1, 0, 0, 0,\n",
       "       0, 0, 0, 1, 0, 0, 0, 0, 0, 0, 0, 0, 0, 1, 0, 1, 0, 1, 0, 1, 0, 0,\n",
       "       0, 0, 1, 0, 1, 0, 0, 1, 0, 0, 1, 0, 0, 0, 0, 0, 1, 1, 0, 1, 0, 0,\n",
       "       0, 1, 0, 0, 0, 0, 0, 0, 0, 1, 0, 1, 0, 0, 0, 0, 0, 1, 0, 0, 0, 0,\n",
       "       0, 1, 0, 0, 1, 0, 1, 0, 0, 1, 0, 0, 1, 0, 1, 1, 1, 0, 1, 0, 0, 0],\n",
       "      dtype=int64)"
      ]
     },
     "execution_count": 54,
     "metadata": {},
     "output_type": "execute_result"
    }
   ],
   "source": [
    "test_y_pred"
   ]
  },
  {
   "cell_type": "markdown",
   "id": "e17dbef3",
   "metadata": {},
   "source": [
    "# Compare true & preedicted result"
   ]
  },
  {
   "cell_type": "code",
   "execution_count": 55,
   "id": "7042d48f",
   "metadata": {},
   "outputs": [],
   "source": [
    "df = pd.concat ([pd.DataFrame ({'Predicted Survived': test_y_pred}), test_data], axis=1)"
   ]
  },
  {
   "cell_type": "code",
   "execution_count": 56,
   "id": "018cc112",
   "metadata": {
    "scrolled": true
   },
   "outputs": [
    {
     "data": {
      "text/html": [
       "<div>\n",
       "<style scoped>\n",
       "    .dataframe tbody tr th:only-of-type {\n",
       "        vertical-align: middle;\n",
       "    }\n",
       "\n",
       "    .dataframe tbody tr th {\n",
       "        vertical-align: top;\n",
       "    }\n",
       "\n",
       "    .dataframe thead th {\n",
       "        text-align: right;\n",
       "    }\n",
       "</style>\n",
       "<table border=\"1\" class=\"dataframe\">\n",
       "  <thead>\n",
       "    <tr style=\"text-align: right;\">\n",
       "      <th></th>\n",
       "      <th>Predicted Survived</th>\n",
       "      <th>Pclass</th>\n",
       "      <th>Sex</th>\n",
       "      <th>Fare</th>\n",
       "    </tr>\n",
       "  </thead>\n",
       "  <tbody>\n",
       "    <tr>\n",
       "      <th>0</th>\n",
       "      <td>0</td>\n",
       "      <td>3</td>\n",
       "      <td>0</td>\n",
       "      <td>7.8292</td>\n",
       "    </tr>\n",
       "    <tr>\n",
       "      <th>1</th>\n",
       "      <td>0</td>\n",
       "      <td>3</td>\n",
       "      <td>1</td>\n",
       "      <td>7.0000</td>\n",
       "    </tr>\n",
       "    <tr>\n",
       "      <th>2</th>\n",
       "      <td>0</td>\n",
       "      <td>2</td>\n",
       "      <td>0</td>\n",
       "      <td>9.6875</td>\n",
       "    </tr>\n",
       "    <tr>\n",
       "      <th>3</th>\n",
       "      <td>0</td>\n",
       "      <td>3</td>\n",
       "      <td>0</td>\n",
       "      <td>8.6625</td>\n",
       "    </tr>\n",
       "    <tr>\n",
       "      <th>4</th>\n",
       "      <td>1</td>\n",
       "      <td>3</td>\n",
       "      <td>1</td>\n",
       "      <td>12.2875</td>\n",
       "    </tr>\n",
       "    <tr>\n",
       "      <th>...</th>\n",
       "      <td>...</td>\n",
       "      <td>...</td>\n",
       "      <td>...</td>\n",
       "      <td>...</td>\n",
       "    </tr>\n",
       "    <tr>\n",
       "      <th>413</th>\n",
       "      <td>0</td>\n",
       "      <td>3</td>\n",
       "      <td>0</td>\n",
       "      <td>8.0500</td>\n",
       "    </tr>\n",
       "    <tr>\n",
       "      <th>414</th>\n",
       "      <td>1</td>\n",
       "      <td>1</td>\n",
       "      <td>1</td>\n",
       "      <td>108.9000</td>\n",
       "    </tr>\n",
       "    <tr>\n",
       "      <th>415</th>\n",
       "      <td>0</td>\n",
       "      <td>3</td>\n",
       "      <td>0</td>\n",
       "      <td>7.2500</td>\n",
       "    </tr>\n",
       "    <tr>\n",
       "      <th>416</th>\n",
       "      <td>0</td>\n",
       "      <td>3</td>\n",
       "      <td>0</td>\n",
       "      <td>8.0500</td>\n",
       "    </tr>\n",
       "    <tr>\n",
       "      <th>417</th>\n",
       "      <td>0</td>\n",
       "      <td>3</td>\n",
       "      <td>0</td>\n",
       "      <td>22.3583</td>\n",
       "    </tr>\n",
       "  </tbody>\n",
       "</table>\n",
       "<p>418 rows × 4 columns</p>\n",
       "</div>"
      ],
      "text/plain": [
       "     Predicted Survived  Pclass  Sex      Fare\n",
       "0                     0       3    0    7.8292\n",
       "1                     0       3    1    7.0000\n",
       "2                     0       2    0    9.6875\n",
       "3                     0       3    0    8.6625\n",
       "4                     1       3    1   12.2875\n",
       "..                  ...     ...  ...       ...\n",
       "413                   0       3    0    8.0500\n",
       "414                   1       1    1  108.9000\n",
       "415                   0       3    0    7.2500\n",
       "416                   0       3    0    8.0500\n",
       "417                   0       3    0   22.3583\n",
       "\n",
       "[418 rows x 4 columns]"
      ]
     },
     "execution_count": 56,
     "metadata": {},
     "output_type": "execute_result"
    }
   ],
   "source": [
    "df"
   ]
  },
  {
   "cell_type": "markdown",
   "id": "74aad86e",
   "metadata": {},
   "source": [
    "# Visualizing model"
   ]
  },
  {
   "cell_type": "code",
   "execution_count": 57,
   "id": "dcf0365c",
   "metadata": {},
   "outputs": [
    {
     "data": {
      "text/plain": [
       "SVC(C=1000, gamma=155, tol=0.0001)"
      ]
     },
     "execution_count": 57,
     "metadata": {},
     "output_type": "execute_result"
    }
   ],
   "source": [
    "model"
   ]
  },
  {
   "cell_type": "code",
   "execution_count": 58,
   "id": "143824bb",
   "metadata": {},
   "outputs": [
    {
     "data": {
      "text/plain": [
       "0.757847533632287"
      ]
     },
     "execution_count": 58,
     "metadata": {},
     "output_type": "execute_result"
    }
   ],
   "source": [
    "model.fit (x_train, y_train)\n",
    "y_pred = model.predict (x_test)\n",
    "accuracy_score (y_test, y_pred)"
   ]
  },
  {
   "cell_type": "code",
   "execution_count": 59,
   "id": "fe8c3003",
   "metadata": {},
   "outputs": [
    {
     "data": {
      "text/plain": [
       "array([0, 0, 0, 1, 1, 0, 1, 0, 1, 0, 0, 0, 0, 0, 0, 1, 1, 0, 0, 0, 0, 0,\n",
       "       1, 0, 0, 0, 0, 0, 0, 1, 0, 1, 1, 1, 0, 0, 0, 1, 0, 0, 0, 0, 0, 0,\n",
       "       0, 0, 1, 0, 0, 0, 1, 1, 0, 0, 0, 1, 0, 0, 0, 1, 0, 1, 1, 0, 0, 1,\n",
       "       0, 0, 0, 1, 1, 1, 1, 1, 0, 0, 1, 1, 1, 1, 0, 1, 1, 0, 1, 0, 1, 0,\n",
       "       0, 0, 0, 0, 0, 0, 0, 0, 0, 0, 1, 0, 0, 0, 0, 0, 0, 0, 1, 0, 0, 0,\n",
       "       1, 0, 0, 1, 0, 0, 0, 0, 0, 0, 0, 0, 1, 0, 0, 0, 1, 0, 0, 0, 1, 0,\n",
       "       0, 1, 1, 0, 1, 0, 0, 0, 0, 1, 0, 0, 0, 0, 0, 0, 1, 0, 0, 0, 0, 0,\n",
       "       0, 0, 1, 0, 1, 1, 0, 0, 0, 0, 1, 0, 0, 1, 0, 0, 0, 1, 1, 0, 0, 0,\n",
       "       1, 1, 1, 0, 0, 0, 0, 0, 0, 0, 0, 0, 0, 1, 0, 0, 0, 0, 1, 0, 1, 0,\n",
       "       0, 0, 0, 0, 1, 0, 0, 1, 0, 0, 0, 0, 0, 0, 0, 0, 0, 0, 1, 0, 1, 0,\n",
       "       0, 1, 0], dtype=int64)"
      ]
     },
     "execution_count": 59,
     "metadata": {},
     "output_type": "execute_result"
    }
   ],
   "source": [
    "y_pred"
   ]
  },
  {
   "cell_type": "code",
   "execution_count": 60,
   "id": "8dfa2a61",
   "metadata": {},
   "outputs": [
    {
     "data": {
      "text/plain": [
       "(array([ True,  True,  True, False, False,  True, False,  True, False,\n",
       "         True,  True,  True,  True,  True,  True, False, False,  True,\n",
       "         True,  True,  True,  True, False,  True,  True,  True,  True,\n",
       "         True,  True, False,  True, False, False, False,  True,  True,\n",
       "         True, False,  True,  True,  True,  True,  True,  True,  True,\n",
       "         True, False,  True,  True,  True, False, False,  True,  True,\n",
       "         True, False,  True,  True,  True, False,  True, False, False,\n",
       "         True,  True, False,  True,  True,  True, False, False, False,\n",
       "        False, False,  True,  True, False, False, False, False,  True,\n",
       "        False, False,  True, False,  True, False,  True,  True,  True,\n",
       "         True,  True,  True,  True,  True,  True,  True,  True, False,\n",
       "         True,  True,  True,  True,  True,  True,  True, False,  True,\n",
       "         True,  True, False,  True,  True, False,  True,  True,  True,\n",
       "         True,  True,  True,  True,  True, False,  True,  True,  True,\n",
       "        False,  True,  True,  True, False,  True,  True, False, False,\n",
       "         True, False,  True,  True,  True,  True, False,  True,  True,\n",
       "         True,  True,  True,  True, False,  True,  True,  True,  True,\n",
       "         True,  True,  True, False,  True, False, False,  True,  True,\n",
       "         True,  True, False,  True,  True, False,  True,  True,  True,\n",
       "        False, False,  True,  True,  True, False, False, False,  True,\n",
       "         True,  True,  True,  True,  True,  True,  True,  True,  True,\n",
       "        False,  True,  True,  True,  True, False,  True, False,  True,\n",
       "         True,  True,  True,  True, False,  True,  True, False,  True,\n",
       "         True,  True,  True,  True,  True,  True,  True,  True,  True,\n",
       "        False,  True, False,  True,  True, False,  True]),\n",
       " 0)"
      ]
     },
     "execution_count": 60,
     "metadata": {},
     "output_type": "execute_result"
    }
   ],
   "source": [
    "y_pred == 0, 0"
   ]
  },
  {
   "cell_type": "code",
   "execution_count": 61,
   "id": "f69cc769",
   "metadata": {},
   "outputs": [
    {
     "data": {
      "text/plain": [
       "array([[  3.    ,   0.    ,  15.2458],\n",
       "       [  2.    ,   0.    ,  10.5   ],\n",
       "       [  3.    ,   0.    ,   7.925 ],\n",
       "       [  2.    ,   1.    ,  33.    ],\n",
       "       [  3.    ,   1.    ,  11.2417],\n",
       "       [  1.    ,   1.    ,  78.85  ],\n",
       "       [  3.    ,   1.    ,   7.75  ],\n",
       "       [  3.    ,   0.    ,  18.    ],\n",
       "       [  3.    ,   1.    ,   7.75  ],\n",
       "       [  1.    ,   1.    ,  26.2833],\n",
       "       [  1.    ,   0.    ,  53.1   ],\n",
       "       [  3.    ,   0.    ,   8.05  ],\n",
       "       [  3.    ,   1.    ,  25.4667],\n",
       "       [  3.    ,   0.    ,   7.225 ],\n",
       "       [  2.    ,   0.    ,  13.    ],\n",
       "       [  1.    ,   1.    ,  39.4   ],\n",
       "       [  1.    ,   0.    ,  52.5542],\n",
       "       [  3.    ,   1.    ,   7.8292],\n",
       "       [  2.    ,   0.    ,  13.    ],\n",
       "       [  1.    ,   0.    ,  52.    ],\n",
       "       [  3.    ,   0.    ,   7.8958],\n",
       "       [  1.    ,   0.    ,  26.55  ],\n",
       "       [  3.    ,   1.    ,   7.8542],\n",
       "       [  3.    ,   0.    ,   9.225 ],\n",
       "       [  3.    ,   0.    ,  14.5   ],\n",
       "       [  3.    ,   0.    ,  27.9   ],\n",
       "       [  1.    ,   0.    ,  27.7208],\n",
       "       [  2.    ,   0.    ,  13.    ],\n",
       "       [  3.    ,   0.    ,  27.9   ],\n",
       "       [  3.    ,   1.    ,   7.8542],\n",
       "       [  3.    ,   0.    ,   7.8958],\n",
       "       [  3.    ,   1.    ,   7.75  ],\n",
       "       [  1.    ,   0.    ,  30.6958],\n",
       "       [  3.    ,   1.    ,   7.55  ],\n",
       "       [  3.    ,   0.    ,   8.05  ],\n",
       "       [  3.    ,   0.    ,  14.4542],\n",
       "       [  1.    ,   0.    ,  35.5   ],\n",
       "       [  3.    ,   1.    ,   7.75  ],\n",
       "       [  1.    ,   1.    ,  31.    ],\n",
       "       [  3.    ,   0.    ,   7.8958],\n",
       "       [  2.    ,   0.    ,  73.5   ],\n",
       "       [  3.    ,   0.    ,   7.0458],\n",
       "       [  3.    ,   0.    ,   8.05  ],\n",
       "       [  3.    ,   0.    ,   7.75  ],\n",
       "       [  3.    ,   1.    ,  14.4542],\n",
       "       [  3.    ,   0.    ,  34.375 ],\n",
       "       [  3.    ,   0.    ,   8.1583],\n",
       "       [  3.    ,   0.    ,   9.225 ],\n",
       "       [  3.    ,   0.    ,   7.05  ],\n",
       "       [  1.    ,   0.    , 113.275 ],\n",
       "       [  3.    ,   1.    ,  19.2583],\n",
       "       [  1.    ,   1.    ,  93.5   ],\n",
       "       [  3.    ,   0.    ,  27.9   ],\n",
       "       [  1.    ,   0.    , 120.    ],\n",
       "       [  3.    ,   0.    ,   7.75  ],\n",
       "       [  1.    ,   1.    ,  79.65  ],\n",
       "       [  2.    ,   0.    ,  10.5   ],\n",
       "       [  1.    ,   1.    , 247.5208],\n",
       "       [  2.    ,   1.    ,  21.    ],\n",
       "       [  3.    ,   1.    ,   7.8792],\n",
       "       [  3.    ,   0.    ,   7.775 ],\n",
       "       [  2.    ,   1.    ,  19.5   ],\n",
       "       [  2.    ,   1.    ,  26.    ],\n",
       "       [  1.    ,   0.    ,  25.925 ],\n",
       "       [  3.    ,   0.    ,   7.75  ],\n",
       "       [  2.    ,   1.    ,  10.5   ],\n",
       "       [  2.    ,   0.    ,  73.5   ],\n",
       "       [  3.    ,   0.    ,   7.875 ],\n",
       "       [  3.    ,   0.    ,   7.2292],\n",
       "       [  1.    ,   1.    ,  78.2667],\n",
       "       [  2.    ,   1.    ,  26.    ],\n",
       "       [  1.    ,   1.    , 262.375 ],\n",
       "       [  1.    ,   0.    ,  30.    ],\n",
       "       [  1.    ,   1.    ,  83.1583],\n",
       "       [  3.    ,   0.    ,   7.8542],\n",
       "       [  3.    ,   0.    ,  15.55  ],\n",
       "       [  3.    ,   1.    ,   7.75  ],\n",
       "       [  1.    ,   1.    ,  49.5   ],\n",
       "       [  2.    ,   1.    ,  13.    ],\n",
       "       [  3.    ,   1.    ,  20.2125],\n",
       "       [  3.    ,   0.    ,  39.6875],\n",
       "       [  2.    ,   1.    ,  10.5   ],\n",
       "       [  1.    ,   1.    , 134.5   ],\n",
       "       [  3.    ,   0.    ,   7.7375],\n",
       "       [  1.    ,   0.    ,  30.6958],\n",
       "       [  1.    ,   0.    ,  49.5042],\n",
       "       [  1.    ,   1.    , 113.275 ],\n",
       "       [  1.    ,   1.    ,  56.9292],\n",
       "       [  1.    ,   0.    ,   0.    ],\n",
       "       [  3.    ,   0.    ,   7.25  ],\n",
       "       [  3.    ,   0.    ,  20.525 ],\n",
       "       [  3.    ,   1.    ,  31.275 ],\n",
       "       [  1.    ,   0.    ,  32.3208],\n",
       "       [  3.    ,   0.    ,   7.7292],\n",
       "       [  3.    ,   0.    ,   7.8958],\n",
       "       [  3.    ,   0.    ,   7.8542],\n",
       "       [  1.    ,   0.    ,  52.    ],\n",
       "       [  3.    ,   0.    ,   8.05  ],\n",
       "       [  2.    ,   1.    ,  13.    ],\n",
       "       [  3.    ,   0.    ,   7.8958],\n",
       "       [  1.    ,   0.    ,  26.    ],\n",
       "       [  3.    ,   0.    ,   7.125 ],\n",
       "       [  1.    ,   1.    ,  91.0792],\n",
       "       [  3.    ,   0.    ,   7.05  ],\n",
       "       [  3.    ,   0.    ,   8.05  ],\n",
       "       [  3.    ,   0.    ,   7.775 ],\n",
       "       [  2.    ,   1.    ,  39.    ],\n",
       "       [  1.    ,   0.    ,  38.5   ],\n",
       "       [  3.    ,   0.    ,   9.5   ],\n",
       "       [  1.    ,   0.    ,  31.    ],\n",
       "       [  1.    ,   1.    ,  52.    ],\n",
       "       [  3.    ,   0.    ,   7.25  ],\n",
       "       [  1.    ,   1.    ,  89.1042],\n",
       "       [  1.    ,   0.    ,  26.2875],\n",
       "       [  1.    ,   0.    , 221.7792],\n",
       "       [  3.    ,   0.    ,   9.8458],\n",
       "       [  1.    ,   0.    ,  34.6542],\n",
       "       [  2.    ,   0.    ,  12.875 ],\n",
       "       [  2.    ,   1.    ,  29.    ],\n",
       "       [  3.    ,   1.    ,  34.375 ],\n",
       "       [  2.    ,   0.    ,  11.5   ],\n",
       "       [  1.    ,   1.    ,  76.2917],\n",
       "       [  1.    ,   1.    ,  77.9583],\n",
       "       [  2.    ,   0.    ,  29.    ],\n",
       "       [  3.    ,   0.    ,   7.25  ],\n",
       "       [  1.    ,   0.    ,  26.55  ],\n",
       "       [  1.    ,   1.    ,  25.9292],\n",
       "       [  1.    ,   0.    ,  79.2   ],\n",
       "       [  3.    ,   1.    ,  14.4583],\n",
       "       [  3.    ,   0.    ,   8.05  ],\n",
       "       [  3.    ,   1.    ,   7.8792],\n",
       "       [  3.    ,   0.    ,  15.2458],\n",
       "       [  2.    ,   0.    ,   0.    ],\n",
       "       [  3.    ,   1.    ,  12.475 ],\n",
       "       [  1.    ,   0.    ,  56.9292],\n",
       "       [  3.    ,   1.    ,  14.4542],\n",
       "       [  1.    ,   1.    , 110.8833],\n",
       "       [  3.    ,   0.    ,   7.775 ],\n",
       "       [  3.    ,   0.    ,   7.55  ],\n",
       "       [  3.    ,   1.    ,  17.8   ],\n",
       "       [  3.    ,   0.    ,   8.4333],\n",
       "       [  2.    ,   1.    ,  26.    ],\n",
       "       [  2.    ,   0.    ,  13.    ],\n",
       "       [  2.    ,   0.    ,  26.    ],\n",
       "       [  3.    ,   1.    ,  29.125 ],\n",
       "       [  2.    ,   1.    ,  32.5   ],\n",
       "       [  2.    ,   0.    ,  13.    ],\n",
       "       [  2.    ,   0.    ,  10.5   ],\n",
       "       [  1.    ,   1.    , 146.5208],\n",
       "       [  3.    ,   0.    ,   8.05  ],\n",
       "       [  3.    ,   0.    ,   8.7125],\n",
       "       [  3.    ,   0.    ,   7.4958],\n",
       "       [  3.    ,   0.    ,   7.7958],\n",
       "       [  3.    ,   1.    ,  24.15  ],\n",
       "       [  3.    ,   0.    ,   8.05  ],\n",
       "       [  3.    ,   0.    ,   7.05  ],\n",
       "       [  3.    ,   0.    ,  56.4958],\n",
       "       [  3.    ,   1.    ,   7.7875],\n",
       "       [  2.    ,   1.    ,  26.    ],\n",
       "       [  3.    ,   1.    ,  15.5   ],\n",
       "       [  3.    ,   0.    ,   7.2292],\n",
       "       [  1.    ,   0.    ,  26.55  ],\n",
       "       [  2.    ,   0.    ,  13.    ],\n",
       "       [  1.    ,   1.    ,  82.1708],\n",
       "       [  3.    ,   0.    ,   8.4583],\n",
       "       [  1.    ,   0.    ,  61.9792],\n",
       "       [  2.    ,   0.    ,  10.5   ],\n",
       "       [  1.    ,   1.    ,  51.8625],\n",
       "       [  3.    ,   0.    ,   7.8958],\n",
       "       [  3.    ,   0.    ,   7.05  ],\n",
       "       [  1.    ,   0.    ,  63.3583],\n",
       "       [  2.    ,   1.    ,  13.    ],\n",
       "       [  1.    ,   0.    ,  26.3875],\n",
       "       [  3.    ,   1.    ,  15.2458],\n",
       "       [  3.    ,   0.    ,   7.125 ],\n",
       "       [  3.    ,   0.    ,   7.225 ],\n",
       "       [  3.    ,   1.    ,  31.3875],\n",
       "       [  2.    ,   1.    ,  10.5   ],\n",
       "       [  3.    ,   1.    ,  16.7   ],\n",
       "       [  1.    ,   0.    ,  28.5   ],\n",
       "       [  2.    ,   0.    ,  13.    ],\n",
       "       [  3.    ,   0.    ,   7.925 ],\n",
       "       [  3.    ,   0.    ,   7.8542],\n",
       "       [  3.    ,   1.    ,  31.275 ],\n",
       "       [  1.    ,   0.    , 247.5208],\n",
       "       [  1.    ,   0.    ,  26.55  ],\n",
       "       [  2.    ,   0.    ,  27.7208],\n",
       "       [  3.    ,   0.    ,   7.8958],\n",
       "       [  1.    ,   0.    ,  35.5   ],\n",
       "       [  2.    ,   1.    ,  13.    ],\n",
       "       [  3.    ,   0.    ,  24.15  ],\n",
       "       [  2.    ,   0.    ,  12.275 ],\n",
       "       [  3.    ,   0.    ,   7.0542],\n",
       "       [  3.    ,   0.    ,   9.5   ],\n",
       "       [  2.    ,   1.    ,  26.    ],\n",
       "       [  1.    ,   1.    ,  90.    ],\n",
       "       [  1.    ,   1.    , 227.525 ],\n",
       "       [  2.    ,   0.    ,  13.    ],\n",
       "       [  1.    ,   1.    ,  57.    ],\n",
       "       [  3.    ,   1.    ,  31.275 ],\n",
       "       [  3.    ,   0.    ,   6.2375],\n",
       "       [  3.    ,   1.    ,   8.6625],\n",
       "       [  2.    ,   1.    ,  26.25  ],\n",
       "       [  3.    ,   1.    ,   9.5875],\n",
       "       [  3.    ,   0.    ,   7.2292],\n",
       "       [  3.    ,   1.    ,  22.3583],\n",
       "       [  3.    ,   0.    ,   9.4833],\n",
       "       [  1.    ,   0.    , 120.    ],\n",
       "       [  3.    ,   0.    ,  14.4583],\n",
       "       [  3.    ,   0.    ,   8.05  ],\n",
       "       [  1.    ,   0.    , 211.5   ],\n",
       "       [  3.    ,   0.    ,   7.25  ],\n",
       "       [  1.    ,   1.    ,  90.    ],\n",
       "       [  3.    ,   0.    ,   7.725 ],\n",
       "       [  3.    ,   1.    ,  25.4667],\n",
       "       [  3.    ,   0.    ,  21.075 ],\n",
       "       [  2.    ,   1.    ,  30.    ],\n",
       "       [  1.    ,   0.    ,  61.3792],\n",
       "       [  2.    ,   1.    ,  26.    ],\n",
       "       [  3.    ,   0.    ,   7.25  ],\n",
       "       [  3.    ,   0.    ,   7.8958],\n",
       "       [  2.    ,   1.    ,  13.    ],\n",
       "       [  3.    ,   0.    ,  20.2125]])"
      ]
     },
     "execution_count": 61,
     "metadata": {},
     "output_type": "execute_result"
    }
   ],
   "source": [
    "x_test"
   ]
  },
  {
   "cell_type": "code",
   "execution_count": 62,
   "id": "8762d206",
   "metadata": {
    "scrolled": true
   },
   "outputs": [
    {
     "data": {
      "text/plain": [
       "array([0., 0., 0., 1., 0., 1., 0., 0., 1., 0., 0., 1., 0., 0., 0., 0., 0.,\n",
       "       0., 0., 0., 0., 0., 0., 0., 0., 0., 1., 0., 0., 0., 0., 0., 1., 0.,\n",
       "       0., 0., 0., 0., 0., 0., 0., 1., 1., 0., 0., 0., 0., 0., 0., 0., 0.,\n",
       "       0., 0., 0., 1., 0., 0., 0., 1., 0., 0., 0., 0., 0., 0., 0., 0., 0.,\n",
       "       1., 0., 0., 0., 0., 0., 0., 0., 1., 0., 0., 0., 0., 1., 1., 0., 1.,\n",
       "       0., 0., 0., 0., 1., 0., 0., 0., 1., 0., 0., 1., 0., 0., 0., 1., 1.,\n",
       "       0., 0., 0., 0., 0., 0., 1., 0., 0., 1., 0., 0., 0., 1., 0., 0., 0.,\n",
       "       0., 0., 1., 0., 0., 0., 0., 0., 0., 1., 0., 0., 0., 0., 0., 0., 0.,\n",
       "       0., 0., 1., 0., 1., 1., 0., 1., 1., 0., 0., 0., 0., 0., 0., 0., 1.,\n",
       "       0., 1., 0., 0., 0., 0., 0.])"
      ]
     },
     "execution_count": 62,
     "metadata": {},
     "output_type": "execute_result"
    }
   ],
   "source": [
    "(x_test [y_pred == 0, 1])"
   ]
  },
  {
   "cell_type": "code",
   "execution_count": 63,
   "id": "318efab2",
   "metadata": {},
   "outputs": [
    {
     "data": {
      "text/plain": [
       "(223, 223, 668)"
      ]
     },
     "execution_count": 63,
     "metadata": {},
     "output_type": "execute_result"
    }
   ],
   "source": [
    "len (y_pred), len (x_test), len (y_train)"
   ]
  }
 ],
 "metadata": {
  "kernelspec": {
   "display_name": "Python 3 (ipykernel)",
   "language": "python",
   "name": "python3"
  },
  "language_info": {
   "codemirror_mode": {
    "name": "ipython",
    "version": 3
   },
   "file_extension": ".py",
   "mimetype": "text/x-python",
   "name": "python",
   "nbconvert_exporter": "python",
   "pygments_lexer": "ipython3",
   "version": "3.9.12"
  }
 },
 "nbformat": 4,
 "nbformat_minor": 5
}

{
 "cells": [
  {
   "cell_type": "markdown",
   "id": "f17d7006",
   "metadata": {},
   "source": [
    "# Importing Libraries"
   ]
  },
  {
   "cell_type": "code",
   "execution_count": 1,
   "id": "7282c09d",
   "metadata": {},
   "outputs": [],
   "source": [
    "import numpy as np\n",
    "import pandas as pd\n",
    "import seaborn as sns\n",
    "import matplotlib.pyplot as plt\n",
    "from matplotlib.pylab import rcParams as screen_size\n",
    "from sklearn.model_selection import train_test_split\n",
    "from sklearn.linear_model import LinearRegression\n",
    "from sklearn.metrics import r2_score"
   ]
  },
  {
   "cell_type": "markdown",
   "id": "276e16ef",
   "metadata": {},
   "source": [
    "# Loading dataset & EDA"
   ]
  },
  {
   "cell_type": "code",
   "execution_count": 2,
   "id": "59ec57aa",
   "metadata": {},
   "outputs": [],
   "source": [
    "data = pd.read_csv ('D://Datasets//tips.csv')"
   ]
  },
  {
   "cell_type": "code",
   "execution_count": 3,
   "id": "7ed50730",
   "metadata": {},
   "outputs": [
    {
     "data": {
      "text/html": [
       "<div>\n",
       "<style scoped>\n",
       "    .dataframe tbody tr th:only-of-type {\n",
       "        vertical-align: middle;\n",
       "    }\n",
       "\n",
       "    .dataframe tbody tr th {\n",
       "        vertical-align: top;\n",
       "    }\n",
       "\n",
       "    .dataframe thead th {\n",
       "        text-align: right;\n",
       "    }\n",
       "</style>\n",
       "<table border=\"1\" class=\"dataframe\">\n",
       "  <thead>\n",
       "    <tr style=\"text-align: right;\">\n",
       "      <th></th>\n",
       "      <th>total_bill</th>\n",
       "      <th>tip</th>\n",
       "      <th>sex</th>\n",
       "      <th>smoker</th>\n",
       "      <th>day</th>\n",
       "      <th>time</th>\n",
       "      <th>size</th>\n",
       "    </tr>\n",
       "  </thead>\n",
       "  <tbody>\n",
       "    <tr>\n",
       "      <th>0</th>\n",
       "      <td>16.99</td>\n",
       "      <td>1.01</td>\n",
       "      <td>Female</td>\n",
       "      <td>No</td>\n",
       "      <td>Sun</td>\n",
       "      <td>Dinner</td>\n",
       "      <td>2</td>\n",
       "    </tr>\n",
       "    <tr>\n",
       "      <th>1</th>\n",
       "      <td>10.34</td>\n",
       "      <td>1.66</td>\n",
       "      <td>Male</td>\n",
       "      <td>No</td>\n",
       "      <td>Sun</td>\n",
       "      <td>Dinner</td>\n",
       "      <td>3</td>\n",
       "    </tr>\n",
       "    <tr>\n",
       "      <th>2</th>\n",
       "      <td>21.01</td>\n",
       "      <td>3.50</td>\n",
       "      <td>Male</td>\n",
       "      <td>No</td>\n",
       "      <td>Sun</td>\n",
       "      <td>Dinner</td>\n",
       "      <td>3</td>\n",
       "    </tr>\n",
       "    <tr>\n",
       "      <th>3</th>\n",
       "      <td>23.68</td>\n",
       "      <td>3.31</td>\n",
       "      <td>Male</td>\n",
       "      <td>No</td>\n",
       "      <td>Sun</td>\n",
       "      <td>Dinner</td>\n",
       "      <td>2</td>\n",
       "    </tr>\n",
       "    <tr>\n",
       "      <th>4</th>\n",
       "      <td>24.59</td>\n",
       "      <td>3.61</td>\n",
       "      <td>Female</td>\n",
       "      <td>No</td>\n",
       "      <td>Sun</td>\n",
       "      <td>Dinner</td>\n",
       "      <td>4</td>\n",
       "    </tr>\n",
       "  </tbody>\n",
       "</table>\n",
       "</div>"
      ],
      "text/plain": [
       "   total_bill   tip     sex smoker  day    time  size\n",
       "0       16.99  1.01  Female     No  Sun  Dinner     2\n",
       "1       10.34  1.66    Male     No  Sun  Dinner     3\n",
       "2       21.01  3.50    Male     No  Sun  Dinner     3\n",
       "3       23.68  3.31    Male     No  Sun  Dinner     2\n",
       "4       24.59  3.61  Female     No  Sun  Dinner     4"
      ]
     },
     "execution_count": 3,
     "metadata": {},
     "output_type": "execute_result"
    }
   ],
   "source": [
    "data.head ()"
   ]
  },
  {
   "cell_type": "code",
   "execution_count": 4,
   "id": "3ddd1808",
   "metadata": {},
   "outputs": [
    {
     "data": {
      "text/html": [
       "<div>\n",
       "<style scoped>\n",
       "    .dataframe tbody tr th:only-of-type {\n",
       "        vertical-align: middle;\n",
       "    }\n",
       "\n",
       "    .dataframe tbody tr th {\n",
       "        vertical-align: top;\n",
       "    }\n",
       "\n",
       "    .dataframe thead th {\n",
       "        text-align: right;\n",
       "    }\n",
       "</style>\n",
       "<table border=\"1\" class=\"dataframe\">\n",
       "  <thead>\n",
       "    <tr style=\"text-align: right;\">\n",
       "      <th></th>\n",
       "      <th>total_bill</th>\n",
       "      <th>tip</th>\n",
       "      <th>size</th>\n",
       "    </tr>\n",
       "  </thead>\n",
       "  <tbody>\n",
       "    <tr>\n",
       "      <th>count</th>\n",
       "      <td>244.000000</td>\n",
       "      <td>244.000000</td>\n",
       "      <td>244.000000</td>\n",
       "    </tr>\n",
       "    <tr>\n",
       "      <th>mean</th>\n",
       "      <td>19.785943</td>\n",
       "      <td>2.998279</td>\n",
       "      <td>2.569672</td>\n",
       "    </tr>\n",
       "    <tr>\n",
       "      <th>std</th>\n",
       "      <td>8.902412</td>\n",
       "      <td>1.383638</td>\n",
       "      <td>0.951100</td>\n",
       "    </tr>\n",
       "    <tr>\n",
       "      <th>min</th>\n",
       "      <td>3.070000</td>\n",
       "      <td>1.000000</td>\n",
       "      <td>1.000000</td>\n",
       "    </tr>\n",
       "    <tr>\n",
       "      <th>25%</th>\n",
       "      <td>13.347500</td>\n",
       "      <td>2.000000</td>\n",
       "      <td>2.000000</td>\n",
       "    </tr>\n",
       "    <tr>\n",
       "      <th>50%</th>\n",
       "      <td>17.795000</td>\n",
       "      <td>2.900000</td>\n",
       "      <td>2.000000</td>\n",
       "    </tr>\n",
       "    <tr>\n",
       "      <th>75%</th>\n",
       "      <td>24.127500</td>\n",
       "      <td>3.562500</td>\n",
       "      <td>3.000000</td>\n",
       "    </tr>\n",
       "    <tr>\n",
       "      <th>max</th>\n",
       "      <td>50.810000</td>\n",
       "      <td>10.000000</td>\n",
       "      <td>6.000000</td>\n",
       "    </tr>\n",
       "  </tbody>\n",
       "</table>\n",
       "</div>"
      ],
      "text/plain": [
       "       total_bill         tip        size\n",
       "count  244.000000  244.000000  244.000000\n",
       "mean    19.785943    2.998279    2.569672\n",
       "std      8.902412    1.383638    0.951100\n",
       "min      3.070000    1.000000    1.000000\n",
       "25%     13.347500    2.000000    2.000000\n",
       "50%     17.795000    2.900000    2.000000\n",
       "75%     24.127500    3.562500    3.000000\n",
       "max     50.810000   10.000000    6.000000"
      ]
     },
     "execution_count": 4,
     "metadata": {},
     "output_type": "execute_result"
    }
   ],
   "source": [
    "data.describe ()"
   ]
  },
  {
   "cell_type": "code",
   "execution_count": 5,
   "id": "36de3a59",
   "metadata": {},
   "outputs": [
    {
     "name": "stdout",
     "output_type": "stream",
     "text": [
      "<class 'pandas.core.frame.DataFrame'>\n",
      "RangeIndex: 244 entries, 0 to 243\n",
      "Data columns (total 7 columns):\n",
      " #   Column      Non-Null Count  Dtype  \n",
      "---  ------      --------------  -----  \n",
      " 0   total_bill  244 non-null    float64\n",
      " 1   tip         244 non-null    float64\n",
      " 2   sex         244 non-null    object \n",
      " 3   smoker      244 non-null    object \n",
      " 4   day         244 non-null    object \n",
      " 5   time        244 non-null    object \n",
      " 6   size        244 non-null    int64  \n",
      "dtypes: float64(2), int64(1), object(4)\n",
      "memory usage: 13.5+ KB\n"
     ]
    }
   ],
   "source": [
    "data.info ()"
   ]
  },
  {
   "cell_type": "code",
   "execution_count": 6,
   "id": "86fe05ee",
   "metadata": {},
   "outputs": [
    {
     "data": {
      "text/plain": [
       "(244, 7)"
      ]
     },
     "execution_count": 6,
     "metadata": {},
     "output_type": "execute_result"
    }
   ],
   "source": [
    "data.shape"
   ]
  },
  {
   "cell_type": "code",
   "execution_count": 7,
   "id": "1057e2fe",
   "metadata": {},
   "outputs": [
    {
     "name": "stdout",
     "output_type": "stream",
     "text": [
      "Columns: Index(['total_bill', 'tip', 'sex', 'smoker', 'day', 'time', 'size'], dtype='object')\n"
     ]
    }
   ],
   "source": [
    "print (f'Columns: {data.columns}')"
   ]
  },
  {
   "cell_type": "code",
   "execution_count": 8,
   "id": "2bd4f280",
   "metadata": {},
   "outputs": [
    {
     "data": {
      "text/plain": [
       "total_bill    float64\n",
       "tip           float64\n",
       "sex            object\n",
       "smoker         object\n",
       "day            object\n",
       "time           object\n",
       "size            int64\n",
       "dtype: object"
      ]
     },
     "execution_count": 8,
     "metadata": {},
     "output_type": "execute_result"
    }
   ],
   "source": [
    "data.dtypes"
   ]
  },
  {
   "cell_type": "code",
   "execution_count": 9,
   "id": "b8fde4b2",
   "metadata": {},
   "outputs": [
    {
     "data": {
      "text/plain": [
       "total_bill    0\n",
       "tip           0\n",
       "sex           0\n",
       "smoker        0\n",
       "day           0\n",
       "time          0\n",
       "size          0\n",
       "dtype: int64"
      ]
     },
     "execution_count": 9,
     "metadata": {},
     "output_type": "execute_result"
    }
   ],
   "source": [
    "data.isna ().sum ()"
   ]
  },
  {
   "cell_type": "code",
   "execution_count": 10,
   "id": "76935f80",
   "metadata": {},
   "outputs": [],
   "source": [
    "sex_unique = data ['sex'].unique () "
   ]
  },
  {
   "cell_type": "code",
   "execution_count": 11,
   "id": "33f8b483",
   "metadata": {},
   "outputs": [
    {
     "data": {
      "text/html": [
       "<div>\n",
       "<style scoped>\n",
       "    .dataframe tbody tr th:only-of-type {\n",
       "        vertical-align: middle;\n",
       "    }\n",
       "\n",
       "    .dataframe tbody tr th {\n",
       "        vertical-align: top;\n",
       "    }\n",
       "\n",
       "    .dataframe thead th {\n",
       "        text-align: right;\n",
       "    }\n",
       "</style>\n",
       "<table border=\"1\" class=\"dataframe\">\n",
       "  <thead>\n",
       "    <tr style=\"text-align: right;\">\n",
       "      <th></th>\n",
       "      <th>total_bill</th>\n",
       "      <th>tip</th>\n",
       "      <th>sex</th>\n",
       "      <th>smoker</th>\n",
       "      <th>day</th>\n",
       "      <th>time</th>\n",
       "      <th>size</th>\n",
       "    </tr>\n",
       "  </thead>\n",
       "  <tbody>\n",
       "    <tr>\n",
       "      <th>0</th>\n",
       "      <td>16.99</td>\n",
       "      <td>1.01</td>\n",
       "      <td>0</td>\n",
       "      <td>No</td>\n",
       "      <td>Sun</td>\n",
       "      <td>Dinner</td>\n",
       "      <td>2</td>\n",
       "    </tr>\n",
       "    <tr>\n",
       "      <th>1</th>\n",
       "      <td>10.34</td>\n",
       "      <td>1.66</td>\n",
       "      <td>1</td>\n",
       "      <td>No</td>\n",
       "      <td>Sun</td>\n",
       "      <td>Dinner</td>\n",
       "      <td>3</td>\n",
       "    </tr>\n",
       "    <tr>\n",
       "      <th>2</th>\n",
       "      <td>21.01</td>\n",
       "      <td>3.50</td>\n",
       "      <td>1</td>\n",
       "      <td>No</td>\n",
       "      <td>Sun</td>\n",
       "      <td>Dinner</td>\n",
       "      <td>3</td>\n",
       "    </tr>\n",
       "  </tbody>\n",
       "</table>\n",
       "</div>"
      ],
      "text/plain": [
       "   total_bill   tip  sex smoker  day    time  size\n",
       "0       16.99  1.01    0     No  Sun  Dinner     2\n",
       "1       10.34  1.66    1     No  Sun  Dinner     3\n",
       "2       21.01  3.50    1     No  Sun  Dinner     3"
      ]
     },
     "execution_count": 11,
     "metadata": {},
     "output_type": "execute_result"
    }
   ],
   "source": [
    "data ['sex'].replace (sex_unique, [0, 1], inplace=True)\n",
    "data.head (3)"
   ]
  },
  {
   "cell_type": "code",
   "execution_count": 12,
   "id": "5f53c3b7",
   "metadata": {},
   "outputs": [
    {
     "name": "stdout",
     "output_type": "stream",
     "text": [
      "2\n",
      "['No' 'Yes']\n"
     ]
    }
   ],
   "source": [
    "print (data ['smoker'].nunique ())\n",
    "print (data ['smoker'].unique ())"
   ]
  },
  {
   "cell_type": "code",
   "execution_count": 13,
   "id": "f585a7be",
   "metadata": {},
   "outputs": [
    {
     "data": {
      "text/html": [
       "<div>\n",
       "<style scoped>\n",
       "    .dataframe tbody tr th:only-of-type {\n",
       "        vertical-align: middle;\n",
       "    }\n",
       "\n",
       "    .dataframe tbody tr th {\n",
       "        vertical-align: top;\n",
       "    }\n",
       "\n",
       "    .dataframe thead th {\n",
       "        text-align: right;\n",
       "    }\n",
       "</style>\n",
       "<table border=\"1\" class=\"dataframe\">\n",
       "  <thead>\n",
       "    <tr style=\"text-align: right;\">\n",
       "      <th></th>\n",
       "      <th>total_bill</th>\n",
       "      <th>tip</th>\n",
       "      <th>sex</th>\n",
       "      <th>smoker</th>\n",
       "      <th>day</th>\n",
       "      <th>time</th>\n",
       "      <th>size</th>\n",
       "    </tr>\n",
       "  </thead>\n",
       "  <tbody>\n",
       "    <tr>\n",
       "      <th>0</th>\n",
       "      <td>16.99</td>\n",
       "      <td>1.01</td>\n",
       "      <td>0</td>\n",
       "      <td>0</td>\n",
       "      <td>Sun</td>\n",
       "      <td>Dinner</td>\n",
       "      <td>2</td>\n",
       "    </tr>\n",
       "    <tr>\n",
       "      <th>1</th>\n",
       "      <td>10.34</td>\n",
       "      <td>1.66</td>\n",
       "      <td>1</td>\n",
       "      <td>0</td>\n",
       "      <td>Sun</td>\n",
       "      <td>Dinner</td>\n",
       "      <td>3</td>\n",
       "    </tr>\n",
       "    <tr>\n",
       "      <th>2</th>\n",
       "      <td>21.01</td>\n",
       "      <td>3.50</td>\n",
       "      <td>1</td>\n",
       "      <td>0</td>\n",
       "      <td>Sun</td>\n",
       "      <td>Dinner</td>\n",
       "      <td>3</td>\n",
       "    </tr>\n",
       "  </tbody>\n",
       "</table>\n",
       "</div>"
      ],
      "text/plain": [
       "   total_bill   tip  sex  smoker  day    time  size\n",
       "0       16.99  1.01    0       0  Sun  Dinner     2\n",
       "1       10.34  1.66    1       0  Sun  Dinner     3\n",
       "2       21.01  3.50    1       0  Sun  Dinner     3"
      ]
     },
     "execution_count": 13,
     "metadata": {},
     "output_type": "execute_result"
    }
   ],
   "source": [
    "data ['smoker'].replace (['No', 'Yes'], [0, 1], inplace=True)\n",
    "data.head (3)"
   ]
  },
  {
   "cell_type": "code",
   "execution_count": 14,
   "id": "65f9731a",
   "metadata": {},
   "outputs": [
    {
     "name": "stdout",
     "output_type": "stream",
     "text": [
      "4 \n",
      " ['Sun' 'Sat' 'Thur' 'Fri']\n"
     ]
    }
   ],
   "source": [
    "n_u = data ['day'].nunique ()\n",
    "un = data ['day'].unique ()\n",
    "print (n_u, '\\n', un)"
   ]
  },
  {
   "cell_type": "code",
   "execution_count": 15,
   "id": "047b7701",
   "metadata": {},
   "outputs": [],
   "source": [
    "data ['day'].replace (un, range (0, 4), inplace=True)"
   ]
  },
  {
   "cell_type": "code",
   "execution_count": 16,
   "id": "096ebd17",
   "metadata": {},
   "outputs": [
    {
     "data": {
      "text/html": [
       "<div>\n",
       "<style scoped>\n",
       "    .dataframe tbody tr th:only-of-type {\n",
       "        vertical-align: middle;\n",
       "    }\n",
       "\n",
       "    .dataframe tbody tr th {\n",
       "        vertical-align: top;\n",
       "    }\n",
       "\n",
       "    .dataframe thead th {\n",
       "        text-align: right;\n",
       "    }\n",
       "</style>\n",
       "<table border=\"1\" class=\"dataframe\">\n",
       "  <thead>\n",
       "    <tr style=\"text-align: right;\">\n",
       "      <th></th>\n",
       "      <th>total_bill</th>\n",
       "      <th>tip</th>\n",
       "      <th>sex</th>\n",
       "      <th>smoker</th>\n",
       "      <th>day</th>\n",
       "      <th>time</th>\n",
       "      <th>size</th>\n",
       "    </tr>\n",
       "  </thead>\n",
       "  <tbody>\n",
       "    <tr>\n",
       "      <th>0</th>\n",
       "      <td>16.99</td>\n",
       "      <td>1.01</td>\n",
       "      <td>0</td>\n",
       "      <td>0</td>\n",
       "      <td>0</td>\n",
       "      <td>Dinner</td>\n",
       "      <td>2</td>\n",
       "    </tr>\n",
       "    <tr>\n",
       "      <th>1</th>\n",
       "      <td>10.34</td>\n",
       "      <td>1.66</td>\n",
       "      <td>1</td>\n",
       "      <td>0</td>\n",
       "      <td>0</td>\n",
       "      <td>Dinner</td>\n",
       "      <td>3</td>\n",
       "    </tr>\n",
       "    <tr>\n",
       "      <th>2</th>\n",
       "      <td>21.01</td>\n",
       "      <td>3.50</td>\n",
       "      <td>1</td>\n",
       "      <td>0</td>\n",
       "      <td>0</td>\n",
       "      <td>Dinner</td>\n",
       "      <td>3</td>\n",
       "    </tr>\n",
       "  </tbody>\n",
       "</table>\n",
       "</div>"
      ],
      "text/plain": [
       "   total_bill   tip  sex  smoker  day    time  size\n",
       "0       16.99  1.01    0       0    0  Dinner     2\n",
       "1       10.34  1.66    1       0    0  Dinner     3\n",
       "2       21.01  3.50    1       0    0  Dinner     3"
      ]
     },
     "execution_count": 16,
     "metadata": {},
     "output_type": "execute_result"
    }
   ],
   "source": [
    "data.head (3)"
   ]
  },
  {
   "cell_type": "code",
   "execution_count": 17,
   "id": "3c24f299",
   "metadata": {},
   "outputs": [
    {
     "name": "stdout",
     "output_type": "stream",
     "text": [
      "['Dinner' 'Lunch']\n"
     ]
    }
   ],
   "source": [
    "t = data ['time'].unique ()\n",
    "print (t)\n"
   ]
  },
  {
   "cell_type": "code",
   "execution_count": 18,
   "id": "dad74c49",
   "metadata": {},
   "outputs": [
    {
     "data": {
      "text/html": [
       "<div>\n",
       "<style scoped>\n",
       "    .dataframe tbody tr th:only-of-type {\n",
       "        vertical-align: middle;\n",
       "    }\n",
       "\n",
       "    .dataframe tbody tr th {\n",
       "        vertical-align: top;\n",
       "    }\n",
       "\n",
       "    .dataframe thead th {\n",
       "        text-align: right;\n",
       "    }\n",
       "</style>\n",
       "<table border=\"1\" class=\"dataframe\">\n",
       "  <thead>\n",
       "    <tr style=\"text-align: right;\">\n",
       "      <th></th>\n",
       "      <th>total_bill</th>\n",
       "      <th>tip</th>\n",
       "      <th>sex</th>\n",
       "      <th>smoker</th>\n",
       "      <th>day</th>\n",
       "      <th>time</th>\n",
       "      <th>size</th>\n",
       "    </tr>\n",
       "  </thead>\n",
       "  <tbody>\n",
       "    <tr>\n",
       "      <th>0</th>\n",
       "      <td>16.99</td>\n",
       "      <td>1.01</td>\n",
       "      <td>0</td>\n",
       "      <td>0</td>\n",
       "      <td>0</td>\n",
       "      <td>0</td>\n",
       "      <td>2</td>\n",
       "    </tr>\n",
       "    <tr>\n",
       "      <th>1</th>\n",
       "      <td>10.34</td>\n",
       "      <td>1.66</td>\n",
       "      <td>1</td>\n",
       "      <td>0</td>\n",
       "      <td>0</td>\n",
       "      <td>0</td>\n",
       "      <td>3</td>\n",
       "    </tr>\n",
       "    <tr>\n",
       "      <th>2</th>\n",
       "      <td>21.01</td>\n",
       "      <td>3.50</td>\n",
       "      <td>1</td>\n",
       "      <td>0</td>\n",
       "      <td>0</td>\n",
       "      <td>0</td>\n",
       "      <td>3</td>\n",
       "    </tr>\n",
       "  </tbody>\n",
       "</table>\n",
       "</div>"
      ],
      "text/plain": [
       "   total_bill   tip  sex  smoker  day  time  size\n",
       "0       16.99  1.01    0       0    0     0     2\n",
       "1       10.34  1.66    1       0    0     0     3\n",
       "2       21.01  3.50    1       0    0     0     3"
      ]
     },
     "execution_count": 18,
     "metadata": {},
     "output_type": "execute_result"
    }
   ],
   "source": [
    "data ['time'].replace (t, [0, 1], inplace=True)\n",
    "data.head (3)"
   ]
  },
  {
   "cell_type": "code",
   "execution_count": 19,
   "id": "1b677c48",
   "metadata": {},
   "outputs": [
    {
     "data": {
      "text/plain": [
       "total_bill    float64\n",
       "tip           float64\n",
       "sex             int64\n",
       "smoker          int64\n",
       "day             int64\n",
       "time            int64\n",
       "size            int64\n",
       "dtype: object"
      ]
     },
     "execution_count": 19,
     "metadata": {},
     "output_type": "execute_result"
    }
   ],
   "source": [
    "data.dtypes"
   ]
  },
  {
   "cell_type": "code",
   "execution_count": 20,
   "id": "ba4aa98d",
   "metadata": {},
   "outputs": [
    {
     "data": {
      "text/html": [
       "<div>\n",
       "<style scoped>\n",
       "    .dataframe tbody tr th:only-of-type {\n",
       "        vertical-align: middle;\n",
       "    }\n",
       "\n",
       "    .dataframe tbody tr th {\n",
       "        vertical-align: top;\n",
       "    }\n",
       "\n",
       "    .dataframe thead th {\n",
       "        text-align: right;\n",
       "    }\n",
       "</style>\n",
       "<table border=\"1\" class=\"dataframe\">\n",
       "  <thead>\n",
       "    <tr style=\"text-align: right;\">\n",
       "      <th></th>\n",
       "      <th>total_bill</th>\n",
       "      <th>tip</th>\n",
       "      <th>sex</th>\n",
       "      <th>smoker</th>\n",
       "      <th>day</th>\n",
       "      <th>time</th>\n",
       "      <th>size</th>\n",
       "    </tr>\n",
       "  </thead>\n",
       "  <tbody>\n",
       "    <tr>\n",
       "      <th>total_bill</th>\n",
       "      <td>1.000000</td>\n",
       "      <td>0.675734</td>\n",
       "      <td>0.144877</td>\n",
       "      <td>0.085721</td>\n",
       "      <td>-0.175312</td>\n",
       "      <td>-0.183118</td>\n",
       "      <td>0.598315</td>\n",
       "    </tr>\n",
       "    <tr>\n",
       "      <th>tip</th>\n",
       "      <td>0.675734</td>\n",
       "      <td>1.000000</td>\n",
       "      <td>0.088862</td>\n",
       "      <td>0.005929</td>\n",
       "      <td>-0.138947</td>\n",
       "      <td>-0.121629</td>\n",
       "      <td>0.489299</td>\n",
       "    </tr>\n",
       "    <tr>\n",
       "      <th>sex</th>\n",
       "      <td>0.144877</td>\n",
       "      <td>0.088862</td>\n",
       "      <td>1.000000</td>\n",
       "      <td>0.002816</td>\n",
       "      <td>-0.215374</td>\n",
       "      <td>-0.205231</td>\n",
       "      <td>0.086195</td>\n",
       "    </tr>\n",
       "    <tr>\n",
       "      <th>smoker</th>\n",
       "      <td>0.085721</td>\n",
       "      <td>0.005929</td>\n",
       "      <td>0.002816</td>\n",
       "      <td>1.000000</td>\n",
       "      <td>0.170818</td>\n",
       "      <td>-0.054921</td>\n",
       "      <td>-0.133178</td>\n",
       "    </tr>\n",
       "    <tr>\n",
       "      <th>day</th>\n",
       "      <td>-0.175312</td>\n",
       "      <td>-0.138947</td>\n",
       "      <td>-0.215374</td>\n",
       "      <td>0.170818</td>\n",
       "      <td>1.000000</td>\n",
       "      <td>0.670470</td>\n",
       "      <td>-0.211750</td>\n",
       "    </tr>\n",
       "    <tr>\n",
       "      <th>time</th>\n",
       "      <td>-0.183118</td>\n",
       "      <td>-0.121629</td>\n",
       "      <td>-0.205231</td>\n",
       "      <td>-0.054921</td>\n",
       "      <td>0.670470</td>\n",
       "      <td>1.000000</td>\n",
       "      <td>-0.103411</td>\n",
       "    </tr>\n",
       "    <tr>\n",
       "      <th>size</th>\n",
       "      <td>0.598315</td>\n",
       "      <td>0.489299</td>\n",
       "      <td>0.086195</td>\n",
       "      <td>-0.133178</td>\n",
       "      <td>-0.211750</td>\n",
       "      <td>-0.103411</td>\n",
       "      <td>1.000000</td>\n",
       "    </tr>\n",
       "  </tbody>\n",
       "</table>\n",
       "</div>"
      ],
      "text/plain": [
       "            total_bill       tip       sex    smoker       day      time  \\\n",
       "total_bill    1.000000  0.675734  0.144877  0.085721 -0.175312 -0.183118   \n",
       "tip           0.675734  1.000000  0.088862  0.005929 -0.138947 -0.121629   \n",
       "sex           0.144877  0.088862  1.000000  0.002816 -0.215374 -0.205231   \n",
       "smoker        0.085721  0.005929  0.002816  1.000000  0.170818 -0.054921   \n",
       "day          -0.175312 -0.138947 -0.215374  0.170818  1.000000  0.670470   \n",
       "time         -0.183118 -0.121629 -0.205231 -0.054921  0.670470  1.000000   \n",
       "size          0.598315  0.489299  0.086195 -0.133178 -0.211750 -0.103411   \n",
       "\n",
       "                size  \n",
       "total_bill  0.598315  \n",
       "tip         0.489299  \n",
       "sex         0.086195  \n",
       "smoker     -0.133178  \n",
       "day        -0.211750  \n",
       "time       -0.103411  \n",
       "size        1.000000  "
      ]
     },
     "metadata": {},
     "output_type": "display_data"
    }
   ],
   "source": [
    "corr = data.corr ()\n",
    "display (corr)"
   ]
  },
  {
   "cell_type": "code",
   "execution_count": 21,
   "id": "695617e5",
   "metadata": {},
   "outputs": [
    {
     "data": {
      "text/html": [
       "<div>\n",
       "<style scoped>\n",
       "    .dataframe tbody tr th:only-of-type {\n",
       "        vertical-align: middle;\n",
       "    }\n",
       "\n",
       "    .dataframe tbody tr th {\n",
       "        vertical-align: top;\n",
       "    }\n",
       "\n",
       "    .dataframe thead th {\n",
       "        text-align: right;\n",
       "    }\n",
       "</style>\n",
       "<table border=\"1\" class=\"dataframe\">\n",
       "  <thead>\n",
       "    <tr style=\"text-align: right;\">\n",
       "      <th></th>\n",
       "      <th>total_bill</th>\n",
       "      <th>tip</th>\n",
       "      <th>sex</th>\n",
       "      <th>smoker</th>\n",
       "      <th>day</th>\n",
       "      <th>time</th>\n",
       "      <th>size</th>\n",
       "    </tr>\n",
       "  </thead>\n",
       "  <tbody>\n",
       "    <tr>\n",
       "      <th>tip</th>\n",
       "      <td>0.675734</td>\n",
       "      <td>1.0</td>\n",
       "      <td>0.088862</td>\n",
       "      <td>0.005929</td>\n",
       "      <td>-0.138947</td>\n",
       "      <td>-0.121629</td>\n",
       "      <td>0.489299</td>\n",
       "    </tr>\n",
       "  </tbody>\n",
       "</table>\n",
       "</div>"
      ],
      "text/plain": [
       "     total_bill  tip       sex    smoker       day      time      size\n",
       "tip    0.675734  1.0  0.088862  0.005929 -0.138947 -0.121629  0.489299"
      ]
     },
     "metadata": {},
     "output_type": "display_data"
    }
   ],
   "source": [
    "display (corr.iloc [1:2, :])"
   ]
  },
  {
   "cell_type": "markdown",
   "id": "4f9257a1",
   "metadata": {},
   "source": [
    "### Data Visualization"
   ]
  },
  {
   "cell_type": "code",
   "execution_count": 22,
   "id": "11ef96b0",
   "metadata": {},
   "outputs": [],
   "source": [
    "screen_size ['figure.figsize'] = (10, 2)"
   ]
  },
  {
   "cell_type": "code",
   "execution_count": 23,
   "id": "b8c796ab",
   "metadata": {},
   "outputs": [
    {
     "data": {
      "image/png": "[encoded data removed]",
      "text/plain": [
       "<Figure size 720x144 with 2 Axes>"
      ]
     },
     "metadata": {
      "needs_background": "light"
     },
     "output_type": "display_data"
    }
   ],
   "source": [
    "plt.title ('Correlation Graph')\n",
    "sns.heatmap (corr.iloc [1:2, :], annot=True, cmap='Greens')\n",
    "plt.show ()"
   ]
  },
  {
   "cell_type": "markdown",
   "id": "b89eb4fb",
   "metadata": {},
   "source": [
    "### Regression Line "
   ]
  },
  {
   "cell_type": "code",
   "execution_count": 24,
   "id": "912b841a",
   "metadata": {},
   "outputs": [
    {
     "name": "stdout",
     "output_type": "stream",
     "text": [
      "[[ 0.67573411  1.          0.08886206  0.00592854 -0.13894712 -0.12162906\n",
      "   0.48929878]]\n"
     ]
    }
   ],
   "source": [
    "corr_val = corr.iloc [1:2, :].values\n",
    "print (corr_val)"
   ]
  },
  {
   "cell_type": "code",
   "execution_count": 25,
   "id": "8c46711c",
   "metadata": {},
   "outputs": [
    {
     "name": "stdout",
     "output_type": "stream",
     "text": [
      "[0.6757341092113648]\n",
      "[0]\n"
     ]
    }
   ],
   "source": [
    "sel_rel = [] #Selecting columns only if correlation is more than 0.6\n",
    "sel_column = [] #Such columns\n",
    "for i in range (len (corr_val)):\n",
    "    if corr_val [0][i] > 0.6:\n",
    "        sel_rel.append (corr_val [0][i])\n",
    "        sel_column.append (i)\n",
    "\n",
    "print (sel_rel)\n",
    "print (sel_column)"
   ]
  },
  {
   "cell_type": "code",
   "execution_count": 26,
   "id": "313a0499",
   "metadata": {},
   "outputs": [
    {
     "name": "stdout",
     "output_type": "stream",
     "text": [
      "[[16.99]\n",
      " [10.34]\n",
      " [21.01]\n",
      " [23.68]\n",
      " [24.59]\n",
      " [25.29]\n",
      " [ 8.77]\n",
      " [26.88]\n",
      " [15.04]\n",
      " [14.78]\n",
      " [10.27]\n",
      " [35.26]\n",
      " [15.42]\n",
      " [18.43]\n",
      " [14.83]\n",
      " [21.58]\n",
      " [10.33]\n",
      " [16.29]\n",
      " [16.97]\n",
      " [20.65]\n",
      " [17.92]\n",
      " [20.29]\n",
      " [15.77]\n",
      " [39.42]\n",
      " [19.82]\n",
      " [17.81]\n",
      " [13.37]\n",
      " [12.69]\n",
      " [21.7 ]\n",
      " [19.65]\n",
      " [ 9.55]\n",
      " [18.35]\n",
      " [15.06]\n",
      " [20.69]\n",
      " [17.78]\n",
      " [24.06]\n",
      " [16.31]\n",
      " [16.93]\n",
      " [18.69]\n",
      " [31.27]\n",
      " [16.04]\n",
      " [17.46]\n",
      " [13.94]\n",
      " [ 9.68]\n",
      " [30.4 ]\n",
      " [18.29]\n",
      " [22.23]\n",
      " [32.4 ]\n",
      " [28.55]\n",
      " [18.04]\n",
      " [12.54]\n",
      " [10.29]\n",
      " [34.81]\n",
      " [ 9.94]\n",
      " [25.56]\n",
      " [19.49]\n",
      " [38.01]\n",
      " [26.41]\n",
      " [11.24]\n",
      " [48.27]\n",
      " [20.29]\n",
      " [13.81]\n",
      " [11.02]\n",
      " [18.29]\n",
      " [17.59]\n",
      " [20.08]\n",
      " [16.45]\n",
      " [ 3.07]\n",
      " [20.23]\n",
      " [15.01]\n",
      " [12.02]\n",
      " [17.07]\n",
      " [26.86]\n",
      " [25.28]\n",
      " [14.73]\n",
      " [10.51]\n",
      " [17.92]\n",
      " [27.2 ]\n",
      " [22.76]\n",
      " [17.29]\n",
      " [19.44]\n",
      " [16.66]\n",
      " [10.07]\n",
      " [32.68]\n",
      " [15.98]\n",
      " [34.83]\n",
      " [13.03]\n",
      " [18.28]\n",
      " [24.71]\n",
      " [21.16]\n",
      " [28.97]\n",
      " [22.49]\n",
      " [ 5.75]\n",
      " [16.32]\n",
      " [22.75]\n",
      " [40.17]\n",
      " [27.28]\n",
      " [12.03]\n",
      " [21.01]\n",
      " [12.46]\n",
      " [11.35]\n",
      " [15.38]\n",
      " [44.3 ]\n",
      " [22.42]\n",
      " [20.92]\n",
      " [15.36]\n",
      " [20.49]\n",
      " [25.21]\n",
      " [18.24]\n",
      " [14.31]\n",
      " [14.  ]\n",
      " [ 7.25]\n",
      " [38.07]\n",
      " [23.95]\n",
      " [25.71]\n",
      " [17.31]\n",
      " [29.93]\n",
      " [10.65]\n",
      " [12.43]\n",
      " [24.08]\n",
      " [11.69]\n",
      " [13.42]\n",
      " [14.26]\n",
      " [15.95]\n",
      " [12.48]\n",
      " [29.8 ]\n",
      " [ 8.52]\n",
      " [14.52]\n",
      " [11.38]\n",
      " [22.82]\n",
      " [19.08]\n",
      " [20.27]\n",
      " [11.17]\n",
      " [12.26]\n",
      " [18.26]\n",
      " [ 8.51]\n",
      " [10.33]\n",
      " [14.15]\n",
      " [16.  ]\n",
      " [13.16]\n",
      " [17.47]\n",
      " [34.3 ]\n",
      " [41.19]\n",
      " [27.05]\n",
      " [16.43]\n",
      " [ 8.35]\n",
      " [18.64]\n",
      " [11.87]\n",
      " [ 9.78]\n",
      " [ 7.51]\n",
      " [14.07]\n",
      " [13.13]\n",
      " [17.26]\n",
      " [24.55]\n",
      " [19.77]\n",
      " [29.85]\n",
      " [48.17]\n",
      " [25.  ]\n",
      " [13.39]\n",
      " [16.49]\n",
      " [21.5 ]\n",
      " [12.66]\n",
      " [16.21]\n",
      " [13.81]\n",
      " [17.51]\n",
      " [24.52]\n",
      " [20.76]\n",
      " [31.71]\n",
      " [10.59]\n",
      " [10.63]\n",
      " [50.81]\n",
      " [15.81]\n",
      " [ 7.25]\n",
      " [31.85]\n",
      " [16.82]\n",
      " [32.9 ]\n",
      " [17.89]\n",
      " [14.48]\n",
      " [ 9.6 ]\n",
      " [34.63]\n",
      " [34.65]\n",
      " [23.33]\n",
      " [45.35]\n",
      " [23.17]\n",
      " [40.55]\n",
      " [20.69]\n",
      " [20.9 ]\n",
      " [30.46]\n",
      " [18.15]\n",
      " [23.1 ]\n",
      " [15.69]\n",
      " [19.81]\n",
      " [28.44]\n",
      " [15.48]\n",
      " [16.58]\n",
      " [ 7.56]\n",
      " [10.34]\n",
      " [43.11]\n",
      " [13.  ]\n",
      " [13.51]\n",
      " [18.71]\n",
      " [12.74]\n",
      " [13.  ]\n",
      " [16.4 ]\n",
      " [20.53]\n",
      " [16.47]\n",
      " [26.59]\n",
      " [38.73]\n",
      " [24.27]\n",
      " [12.76]\n",
      " [30.06]\n",
      " [25.89]\n",
      " [48.33]\n",
      " [13.27]\n",
      " [28.17]\n",
      " [12.9 ]\n",
      " [28.15]\n",
      " [11.59]\n",
      " [ 7.74]\n",
      " [30.14]\n",
      " [12.16]\n",
      " [13.42]\n",
      " [ 8.58]\n",
      " [15.98]\n",
      " [13.42]\n",
      " [16.27]\n",
      " [10.09]\n",
      " [20.45]\n",
      " [13.28]\n",
      " [22.12]\n",
      " [24.01]\n",
      " [15.69]\n",
      " [11.61]\n",
      " [10.77]\n",
      " [15.53]\n",
      " [10.07]\n",
      " [12.6 ]\n",
      " [32.83]\n",
      " [35.83]\n",
      " [29.03]\n",
      " [27.18]\n",
      " [22.67]\n",
      " [17.82]\n",
      " [18.78]]\n"
     ]
    }
   ],
   "source": [
    "x = data.iloc [:, sel_column].values\n",
    "print (x)"
   ]
  },
  {
   "cell_type": "code",
   "execution_count": 27,
   "id": "097df828",
   "metadata": {
    "scrolled": true
   },
   "outputs": [
    {
     "name": "stdout",
     "output_type": "stream",
     "text": [
      "[16.99 10.34 21.01 23.68 24.59 25.29  8.77 26.88 15.04 14.78 10.27 35.26\n",
      " 15.42 18.43 14.83 21.58 10.33 16.29 16.97 20.65 17.92 20.29 15.77 39.42\n",
      " 19.82 17.81 13.37 12.69 21.7  19.65  9.55 18.35 15.06 20.69 17.78 24.06\n",
      " 16.31 16.93 18.69 31.27 16.04 17.46 13.94  9.68 30.4  18.29 22.23 32.4\n",
      " 28.55 18.04 12.54 10.29 34.81  9.94 25.56 19.49 38.01 26.41 11.24 48.27\n",
      " 20.29 13.81 11.02 18.29 17.59 20.08 16.45  3.07 20.23 15.01 12.02 17.07\n",
      " 26.86 25.28 14.73 10.51 17.92 27.2  22.76 17.29 19.44 16.66 10.07 32.68\n",
      " 15.98 34.83 13.03 18.28 24.71 21.16 28.97 22.49  5.75 16.32 22.75 40.17\n",
      " 27.28 12.03 21.01 12.46 11.35 15.38 44.3  22.42 20.92 15.36 20.49 25.21\n",
      " 18.24 14.31 14.    7.25 38.07 23.95 25.71 17.31 29.93 10.65 12.43 24.08\n",
      " 11.69 13.42 14.26 15.95 12.48 29.8   8.52 14.52 11.38 22.82 19.08 20.27\n",
      " 11.17 12.26 18.26  8.51 10.33 14.15 16.   13.16 17.47 34.3  41.19 27.05\n",
      " 16.43  8.35 18.64 11.87  9.78  7.51 14.07 13.13 17.26 24.55 19.77 29.85\n",
      " 48.17 25.   13.39 16.49 21.5  12.66 16.21 13.81 17.51 24.52 20.76 31.71\n",
      " 10.59 10.63 50.81 15.81  7.25 31.85 16.82 32.9  17.89 14.48  9.6  34.63\n",
      " 34.65 23.33 45.35 23.17 40.55 20.69 20.9  30.46 18.15 23.1  15.69 19.81\n",
      " 28.44 15.48 16.58  7.56 10.34 43.11 13.   13.51 18.71 12.74 13.   16.4\n",
      " 20.53 16.47 26.59 38.73 24.27 12.76 30.06 25.89 48.33 13.27 28.17 12.9\n",
      " 28.15 11.59  7.74 30.14 12.16 13.42  8.58 15.98 13.42 16.27 10.09 20.45\n",
      " 13.28 22.12 24.01 15.69 11.61 10.77 15.53 10.07 12.6  32.83 35.83 29.03\n",
      " 27.18 22.67 17.82 18.78]\n"
     ]
    }
   ],
   "source": [
    "xo = x.reshape (244, )\n",
    "print  (xo)"
   ]
  },
  {
   "cell_type": "code",
   "execution_count": 28,
   "id": "b8f28495",
   "metadata": {},
   "outputs": [
    {
     "name": "stdout",
     "output_type": "stream",
     "text": [
      "[ 1.01  1.66  3.5   3.31  3.61  4.71  2.    3.12  1.96  3.23  1.71  5.\n",
      "  1.57  3.    3.02  3.92  1.67  3.71  3.5   3.35  4.08  2.75  2.23  7.58\n",
      "  3.18  2.34  2.    2.    4.3   3.    1.45  2.5   3.    2.45  3.27  3.6\n",
      "  2.    3.07  2.31  5.    2.24  2.54  3.06  1.32  5.6   3.    5.    6.\n",
      "  2.05  3.    2.5   2.6   5.2   1.56  4.34  3.51  3.    1.5   1.76  6.73\n",
      "  3.21  2.    1.98  3.76  2.64  3.15  2.47  1.    2.01  2.09  1.97  3.\n",
      "  3.14  5.    2.2   1.25  3.08  4.    3.    2.71  3.    3.4   1.83  5.\n",
      "  2.03  5.17  2.    4.    5.85  3.    3.    3.5   1.    4.3   3.25  4.73\n",
      "  4.    1.5   3.    1.5   2.5   3.    2.5   3.48  4.08  1.64  4.06  4.29\n",
      "  3.76  4.    3.    1.    4.    2.55  4.    3.5   5.07  1.5   1.8   2.92\n",
      "  2.31  1.68  2.5   2.    2.52  4.2   1.48  2.    2.    2.18  1.5   2.83\n",
      "  1.5   2.    3.25  1.25  2.    2.    2.    2.75  3.5   6.7   5.    5.\n",
      "  2.3   1.5   1.36  1.63  1.73  2.    2.5   2.    2.74  2.    2.    5.14\n",
      "  5.    3.75  2.61  2.    3.5   2.5   2.    2.    3.    3.48  2.24  4.5\n",
      "  1.61  2.   10.    3.16  5.15  3.18  4.    3.11  2.    2.    4.    3.55\n",
      "  3.68  5.65  3.5   6.5   3.    5.    3.5   2.    3.5   4.    1.5   4.19\n",
      "  2.56  2.02  4.    1.44  2.    5.    2.    2.    4.    2.01  2.    2.5\n",
      "  4.    3.23  3.41  3.    2.03  2.23  2.    5.16  9.    2.5   6.5   1.1\n",
      "  3.    1.5   1.44  3.09  2.2   3.48  1.92  3.    1.58  2.5   2.    3.\n",
      "  2.72  2.88  2.    3.    3.39  1.47  3.    1.25  1.    1.17  4.67  5.92\n",
      "  2.    2.    1.75  3.  ]\n"
     ]
    }
   ],
   "source": [
    "y = data ['tip'].values\n",
    "print (y)"
   ]
  },
  {
   "cell_type": "code",
   "execution_count": 29,
   "id": "a0ef70b8",
   "metadata": {},
   "outputs": [],
   "source": [
    "screen_size ['figure.figsize'] = (10, 6)"
   ]
  },
  {
   "cell_type": "code",
   "execution_count": 30,
   "id": "679828f7",
   "metadata": {},
   "outputs": [
    {
     "data": {
      "image/png": "[encoded data removed]",
      "text/plain": [
       "<Figure size 720x432 with 1 Axes>"
      ]
     },
     "metadata": {
      "needs_background": "light"
     },
     "output_type": "display_data"
    }
   ],
   "source": [
    "m, c = np.polyfit(xo, y, 1) #Slope, intercept\n",
    "\n",
    "plt.title ('Regression Line')\n",
    "plt.xlabel ('Total')\n",
    "plt.ylabel ('Tips')\n",
    "plt.grid ()\n",
    "plt.plot(xo, (m*xo + c), label='Regression Line', c='g')\n",
    "plt.legend ()\n",
    "plt.show ()"
   ]
  },
  {
   "cell_type": "markdown",
   "id": "662c7302",
   "metadata": {},
   "source": [
    "# Train - Test - Split"
   ]
  },
  {
   "cell_type": "code",
   "execution_count": 31,
   "id": "57a7c03b",
   "metadata": {},
   "outputs": [
    {
     "name": "stdout",
     "output_type": "stream",
     "text": [
      "Shapes \n",
      "Xtrain: (170, 1), Xtest: (74, 1), Ytrain: (170,), Ytest: (74,) \n",
      "Dimensions \n",
      "Xtrain: 2, Xtest: 2, Ytrain: 1, Ytest: 1\n"
     ]
    }
   ],
   "source": [
    "x_train, x_test, y_train, y_test = train_test_split (x, y, test_size=0.3, random_state=42)\n",
    "print ('Shapes \\nXtrain: {}, Xtest: {}, Ytrain: {}, Ytest: {} \\nDimensions \\nXtrain: {}, Xtest: {}, Ytrain: {}, Ytest: {}'.format (x_train.shape, x_test.shape, y_train.shape, y_test.shape, x_train.ndim, x_test.ndim, y_train.ndim, y_test.ndim))"
   ]
  },
  {
   "cell_type": "code",
   "execution_count": 32,
   "id": "ac188a9c",
   "metadata": {},
   "outputs": [
    {
     "name": "stdout",
     "output_type": "stream",
     "text": [
      "Prediction: \n",
      " [3.03523096 1.83195547 3.5502982  3.69621577 2.29257586 2.8250661\n",
      " 3.97389473 2.23595113 2.48640666 2.55174289 2.86862358 2.04974289\n",
      " 2.03667564 2.45373855 1.97351729 2.90673638 2.91435894 3.22688388\n",
      " 2.66825916 5.36228952 3.12996848 3.12561273 2.43522662 1.91689256\n",
      " 3.15283616 2.1499251  1.99529603 3.62979061 2.6726149  6.12236761\n",
      " 5.02254115 1.71979495 2.8163546  3.086411   2.72488388 3.49911816\n",
      " 2.18694896 5.57136544 2.30999885 3.34557803 2.02143052 2.4580943\n",
      " 3.48496197 2.00182966 2.00291859 1.21126133 2.03014202 2.91218106\n",
      " 1.70019408 2.3230661  3.51980796 3.84757803 4.32997716 2.61707911\n",
      " 2.99929603 2.29584267 1.66643703 2.81744354 2.75646306 2.58549994\n",
      " 4.12743486 2.76190775 3.41744788 2.64865829 3.07987738 3.15501404\n",
      " 2.51145221 1.66643703 3.77244137 3.54703139 3.02978627 3.94231555\n",
      " 2.75972987 3.01671903]\n"
     ]
    }
   ],
   "source": [
    "model = LinearRegression ()\n",
    "model.fit (x_train, y_train)\n",
    "y_pred = model.predict (x_test)\n",
    "print (\"Prediction: \\n\", y_pred)"
   ]
  },
  {
   "cell_type": "markdown",
   "id": "7f5607d7",
   "metadata": {},
   "source": [
    "### Evaluation"
   ]
  },
  {
   "cell_type": "code",
   "execution_count": 33,
   "id": "1f055116",
   "metadata": {},
   "outputs": [
    {
     "name": "stdout",
     "output_type": "stream",
     "text": [
      "Accuracy: 42.91782688312412%\n"
     ]
    }
   ],
   "source": [
    "accuracy = r2_score (y_test, y_pred)\n",
    "print (\"Accuracy: {}%\".format (accuracy*100))"
   ]
  },
  {
   "cell_type": "code",
   "execution_count": 34,
   "id": "07971bd7",
   "metadata": {},
   "outputs": [
    {
     "data": {
      "text/html": [
       "<div>\n",
       "<style scoped>\n",
       "    .dataframe tbody tr th:only-of-type {\n",
       "        vertical-align: middle;\n",
       "    }\n",
       "\n",
       "    .dataframe tbody tr th {\n",
       "        vertical-align: top;\n",
       "    }\n",
       "\n",
       "    .dataframe thead th {\n",
       "        text-align: right;\n",
       "    }\n",
       "</style>\n",
       "<table border=\"1\" class=\"dataframe\">\n",
       "  <thead>\n",
       "    <tr style=\"text-align: right;\">\n",
       "      <th></th>\n",
       "      <th>Y</th>\n",
       "      <th>Y_pred</th>\n",
       "    </tr>\n",
       "  </thead>\n",
       "  <tbody>\n",
       "    <tr>\n",
       "      <th>0</th>\n",
       "      <td>3.18</td>\n",
       "      <td>3.035231</td>\n",
       "    </tr>\n",
       "    <tr>\n",
       "      <th>1</th>\n",
       "      <td>2.00</td>\n",
       "      <td>1.831955</td>\n",
       "    </tr>\n",
       "    <tr>\n",
       "      <th>2</th>\n",
       "      <td>2.00</td>\n",
       "      <td>3.550298</td>\n",
       "    </tr>\n",
       "    <tr>\n",
       "      <th>3</th>\n",
       "      <td>5.16</td>\n",
       "      <td>3.696216</td>\n",
       "    </tr>\n",
       "    <tr>\n",
       "      <th>4</th>\n",
       "      <td>2.00</td>\n",
       "      <td>2.292576</td>\n",
       "    </tr>\n",
       "    <tr>\n",
       "      <th>...</th>\n",
       "      <td>...</td>\n",
       "      <td>...</td>\n",
       "    </tr>\n",
       "    <tr>\n",
       "      <th>69</th>\n",
       "      <td>3.48</td>\n",
       "      <td>3.547031</td>\n",
       "    </tr>\n",
       "    <tr>\n",
       "      <th>70</th>\n",
       "      <td>2.00</td>\n",
       "      <td>3.029786</td>\n",
       "    </tr>\n",
       "    <tr>\n",
       "      <th>71</th>\n",
       "      <td>3.00</td>\n",
       "      <td>3.942316</td>\n",
       "    </tr>\n",
       "    <tr>\n",
       "      <th>72</th>\n",
       "      <td>2.71</td>\n",
       "      <td>2.759730</td>\n",
       "    </tr>\n",
       "    <tr>\n",
       "      <th>73</th>\n",
       "      <td>3.00</td>\n",
       "      <td>3.016719</td>\n",
       "    </tr>\n",
       "  </tbody>\n",
       "</table>\n",
       "<p>74 rows × 2 columns</p>\n",
       "</div>"
      ],
      "text/plain": [
       "       Y    Y_pred\n",
       "0   3.18  3.035231\n",
       "1   2.00  1.831955\n",
       "2   2.00  3.550298\n",
       "3   5.16  3.696216\n",
       "4   2.00  2.292576\n",
       "..   ...       ...\n",
       "69  3.48  3.547031\n",
       "70  2.00  3.029786\n",
       "71  3.00  3.942316\n",
       "72  2.71  2.759730\n",
       "73  3.00  3.016719\n",
       "\n",
       "[74 rows x 2 columns]"
      ]
     },
     "metadata": {},
     "output_type": "display_data"
    }
   ],
   "source": [
    "df = pd.concat ([pd.DataFrame ({'Y': y_test}), pd.DataFrame ({'Y_pred': y_pred})], axis=1)\n",
    "display (df)"
   ]
  },
  {
   "cell_type": "code",
   "execution_count": 35,
   "id": "dde13db9",
   "metadata": {},
   "outputs": [
    {
     "name": "stdout",
     "output_type": "stream",
     "text": [
      "244\n",
      "0.4554172083989859\n"
     ]
    }
   ],
   "source": [
    "diff = []\n",
    "y_pred = model.predict (x)\n",
    "for i in range (len (y)):\n",
    "    diff.append (y[i]-y_pred[i])\n",
    "print (len (diff))\n",
    "print (r2_score (y, y_pred))"
   ]
  },
  {
   "cell_type": "code",
   "execution_count": 36,
   "id": "65f3f0f6",
   "metadata": {},
   "outputs": [
    {
     "data": {
      "text/html": [
       "<div>\n",
       "<style scoped>\n",
       "    .dataframe tbody tr th:only-of-type {\n",
       "        vertical-align: middle;\n",
       "    }\n",
       "\n",
       "    .dataframe tbody tr th {\n",
       "        vertical-align: top;\n",
       "    }\n",
       "\n",
       "    .dataframe thead th {\n",
       "        text-align: right;\n",
       "    }\n",
       "</style>\n",
       "<table border=\"1\" class=\"dataframe\">\n",
       "  <thead>\n",
       "    <tr style=\"text-align: right;\">\n",
       "      <th></th>\n",
       "      <th>Y</th>\n",
       "      <th>Y_pred</th>\n",
       "      <th>Difference</th>\n",
       "    </tr>\n",
       "  </thead>\n",
       "  <tbody>\n",
       "    <tr>\n",
       "      <th>0</th>\n",
       "      <td>1.01</td>\n",
       "      <td>2.727062</td>\n",
       "      <td>-1.717062</td>\n",
       "    </tr>\n",
       "    <tr>\n",
       "      <th>1</th>\n",
       "      <td>1.66</td>\n",
       "      <td>2.002919</td>\n",
       "      <td>-0.342919</td>\n",
       "    </tr>\n",
       "    <tr>\n",
       "      <th>2</th>\n",
       "      <td>3.50</td>\n",
       "      <td>3.164814</td>\n",
       "      <td>0.335186</td>\n",
       "    </tr>\n",
       "    <tr>\n",
       "      <th>3</th>\n",
       "      <td>3.31</td>\n",
       "      <td>3.455561</td>\n",
       "      <td>-0.145561</td>\n",
       "    </tr>\n",
       "    <tr>\n",
       "      <th>4</th>\n",
       "      <td>3.61</td>\n",
       "      <td>3.554654</td>\n",
       "      <td>0.055346</td>\n",
       "    </tr>\n",
       "    <tr>\n",
       "      <th>...</th>\n",
       "      <td>...</td>\n",
       "      <td>...</td>\n",
       "      <td>...</td>\n",
       "    </tr>\n",
       "    <tr>\n",
       "      <th>239</th>\n",
       "      <td>5.92</td>\n",
       "      <td>4.038142</td>\n",
       "      <td>1.881858</td>\n",
       "    </tr>\n",
       "    <tr>\n",
       "      <th>240</th>\n",
       "      <td>2.00</td>\n",
       "      <td>3.836689</td>\n",
       "      <td>-1.836689</td>\n",
       "    </tr>\n",
       "    <tr>\n",
       "      <th>241</th>\n",
       "      <td>2.00</td>\n",
       "      <td>3.345578</td>\n",
       "      <td>-1.345578</td>\n",
       "    </tr>\n",
       "    <tr>\n",
       "      <th>242</th>\n",
       "      <td>1.75</td>\n",
       "      <td>2.817444</td>\n",
       "      <td>-1.067444</td>\n",
       "    </tr>\n",
       "    <tr>\n",
       "      <th>243</th>\n",
       "      <td>3.00</td>\n",
       "      <td>2.921981</td>\n",
       "      <td>0.078019</td>\n",
       "    </tr>\n",
       "  </tbody>\n",
       "</table>\n",
       "<p>244 rows × 3 columns</p>\n",
       "</div>"
      ],
      "text/plain": [
       "        Y    Y_pred  Difference\n",
       "0    1.01  2.727062   -1.717062\n",
       "1    1.66  2.002919   -0.342919\n",
       "2    3.50  3.164814    0.335186\n",
       "3    3.31  3.455561   -0.145561\n",
       "4    3.61  3.554654    0.055346\n",
       "..    ...       ...         ...\n",
       "239  5.92  4.038142    1.881858\n",
       "240  2.00  3.836689   -1.836689\n",
       "241  2.00  3.345578   -1.345578\n",
       "242  1.75  2.817444   -1.067444\n",
       "243  3.00  2.921981    0.078019\n",
       "\n",
       "[244 rows x 3 columns]"
      ]
     },
     "metadata": {},
     "output_type": "display_data"
    }
   ],
   "source": [
    "df_new = pd.concat ([pd.DataFrame ({'Y': y}), pd.DataFrame ({'Y_pred': y_pred}), pd.DataFrame ({'Difference': diff})], axis=1)\n",
    "display (df_new)"
   ]
  },
  {
   "cell_type": "code",
   "execution_count": 37,
   "id": "d18de5b5",
   "metadata": {},
   "outputs": [
    {
     "data": {
      "text/plain": [
       "-0.0332436331411774"
      ]
     },
     "execution_count": 37,
     "metadata": {},
     "output_type": "execute_result"
    }
   ],
   "source": [
    "df_new ['Difference'].mean ()"
   ]
  }
 ],
 "metadata": {
  "kernelspec": {
   "display_name": "Python 3 (ipykernel)",
   "language": "python",
   "name": "python3"
  },
  "language_info": {
   "codemirror_mode": {
    "name": "ipython",
    "version": 3
   },
   "file_extension": ".py",
   "mimetype": "text/x-python",
   "name": "python",
   "nbconvert_exporter": "python",
   "pygments_lexer": "ipython3",
   "version": "3.9.12"
  }
 },
 "nbformat": 4,
 "nbformat_minor": 5
}

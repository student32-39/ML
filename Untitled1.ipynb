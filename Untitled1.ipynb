{
 "cells": [
  {
   "cell_type": "code",
   "execution_count": 28,
   "id": "6e84cc7f",
   "metadata": {},
   "outputs": [],
   "source": [
    "def hebbian_learning(samples):\n",
    "     print(f'{\"INPUT|| \"} {\"TARGET|| \"}{\"WEIGHTCHANGES|| \"}{\"WEIGHTS\"}')\n",
    "     w1, w2, b = 0, 0, 0\n",
    "     print(' ' * 45, f'({w1:2}, {w2:2}, {b:2})')\n",
    "     for x1, x2, y in samples:\n",
    "         w1 = w1 + x1 * y\n",
    "         w2 = w2 + x2 * y\n",
    "         b = b + y\n",
    "         print(f'({x1:2}, {x2:2}) {y:2} ({x1*y:2}, {x2*y:2}, {y:2}) ({w1:2}, {w2:2}, {b:2})')"
   ]
  },
  {
   "cell_type": "code",
   "execution_count": 11,
   "id": "7aac914d",
   "metadata": {},
   "outputs": [],
   "source": [
    "AND_samples = {\n",
    "    'binary_input_binary_output': [\n",
    "        [1, 1, 1],\n",
    "        [1, 0, 0],\n",
    "        [0, 1, 0],\n",
    "        [0, 0, 0]\n",
    "    ],\n",
    "    'binary_input_bipolar_output': [\n",
    "        [1, 1, 1],\n",
    "        [1, 0, -1],\n",
    "        [0, 1, -1],\n",
    "        [0, 0, -1]\n",
    "    ],\n",
    "    'bipolar_input_bipolar_output': [\n",
    "        [ 1, 1, 1],\n",
    "        [ 1, -1, -1],\n",
    "        [-1, 1, -1],\n",
    "        [-1, -1, -1]\n",
    "    ]\n",
    "}"
   ]
  },
  {
   "cell_type": "code",
   "execution_count": 29,
   "id": "581d3fc5",
   "metadata": {},
   "outputs": [
    {
     "name": "stdout",
     "output_type": "stream",
     "text": [
      "AND with Bipolar Input and Bipolar Output\n",
      "INPUT||  TARGET|| WEIGHTCHANGES|| WEIGHTS\n",
      "                                              ( 0,  0,  0)\n",
      "( 1,  1)  1 ( 1,  1,  1) ( 1,  1,  1)\n",
      "( 1, -1) -1 (-1,  1, -1) ( 0,  2,  0)\n",
      "(-1,  1) -1 ( 1, -1, -1) ( 1,  1, -1)\n",
      "(-1, -1) -1 ( 1,  1, -1) ( 2,  2, -2)\n"
     ]
    }
   ],
   "source": [
    "print('AND with Bipolar Input and Bipolar Output')\n",
    "hebbian_learning(AND_samples['bipolar_input_bipolar_output'])"
   ]
  }
 ],
 "metadata": {
  "kernelspec": {
   "display_name": "Python 3 (ipykernel)",
   "language": "python",
   "name": "python3"
  },
  "language_info": {
   "codemirror_mode": {
    "name": "ipython",
    "version": 3
   },
   "file_extension": ".py",
   "mimetype": "text/x-python",
   "name": "python",
   "nbconvert_exporter": "python",
   "pygments_lexer": "ipython3",
   "version": "3.9.13"
  }
 },
 "nbformat": 4,
 "nbformat_minor": 5
}

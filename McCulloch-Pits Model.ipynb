{
 "cells": [
  {
   "cell_type": "markdown",
   "id": "13dea84b",
   "metadata": {},
   "source": [
    "# Weights & Input vector"
   ]
  },
  {
   "cell_type": "code",
   "execution_count": 1,
   "id": "c190d4c7",
   "metadata": {},
   "outputs": [],
   "source": [
    "import numpy as np"
   ]
  },
  {
   "cell_type": "code",
   "execution_count": 2,
   "id": "c4f2c6d8",
   "metadata": {},
   "outputs": [
    {
     "name": "stdout",
     "output_type": "stream",
     "text": [
      "Input vector:[0 1 1], Weight vector:[-1  1  1]\n"
     ]
    }
   ],
   "source": [
    "np.random.seed(seed=0)\n",
    "I = np.random.choice([0,1], 3)\n",
    "W = np.random.choice([-1,1], 3) \n",
    "print(f'Input vector:{I}, Weight vector:{W}')"
   ]
  },
  {
   "cell_type": "code",
   "execution_count": 3,
   "id": "1daa1a2a",
   "metadata": {},
   "outputs": [
    {
     "name": "stdout",
     "output_type": "stream",
     "text": [
      "2\n"
     ]
    }
   ],
   "source": [
    "#Dot product of Input & Weight Vector\n",
    "dot = I @ W\n",
    "print (dot)"
   ]
  },
  {
   "cell_type": "code",
   "execution_count": 4,
   "id": "c7f8501f",
   "metadata": {},
   "outputs": [],
   "source": [
    "def activation(dot: int, T: float) -> int:\n",
    "    if dot >= T:\n",
    "        return 1\n",
    "    else:\n",
    "        return 0"
   ]
  },
  {
   "cell_type": "code",
   "execution_count": 5,
   "id": "694f3066",
   "metadata": {},
   "outputs": [
    {
     "data": {
      "text/plain": [
       "1"
      ]
     },
     "execution_count": 5,
     "metadata": {},
     "output_type": "execute_result"
    }
   ],
   "source": [
    "T = 1\n",
    "neuron = activation(dot, T)\n",
    "neuron"
   ]
  },
  {
   "cell_type": "markdown",
   "id": "c55b5fde",
   "metadata": {},
   "source": [
    "#### In the previous example, the threshold was set to T=1 . Since Sum=2 , the neuron fires. If we increase the threshold for firing to T=3 , the neuron will not fire."
   ]
  },
  {
   "cell_type": "code",
   "execution_count": 6,
   "id": "168d8f4e",
   "metadata": {},
   "outputs": [
    {
     "data": {
      "text/plain": [
       "0"
      ]
     },
     "execution_count": 6,
     "metadata": {},
     "output_type": "execute_result"
    }
   ],
   "source": [
    "T = 3\n",
    "neuron = activation(dot, T)\n",
    "neuron"
   ]
  },
  {
   "cell_type": "markdown",
   "id": "f5214f85",
   "metadata": {},
   "source": [
    "#### Application: Boolean algebra using the McCulloch-Pitts artificial neuron"
   ]
  }
 ],
 "metadata": {
  "kernelspec": {
   "display_name": "Python 3 (ipykernel)",
   "language": "python",
   "name": "python3"
  },
  "language_info": {
   "codemirror_mode": {
    "name": "ipython",
    "version": 3
   },
   "file_extension": ".py",
   "mimetype": "text/x-python",
   "name": "python",
   "nbconvert_exporter": "python",
   "pygments_lexer": "ipython3",
   "version": "3.9.12"
  }
 },
 "nbformat": 4,
 "nbformat_minor": 5
}
